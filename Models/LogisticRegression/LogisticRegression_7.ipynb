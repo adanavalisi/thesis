{
 "cells": [
  {
   "cell_type": "code",
   "execution_count": 1,
   "id": "c29ebc5c",
   "metadata": {},
   "outputs": [],
   "source": [
    "import pandas as pd\n",
    "import numpy as np\n",
    "from sklearn.model_selection import train_test_split, RandomizedSearchCV, cross_val_score, StratifiedKFold\n",
    "from sklearn.linear_model import LogisticRegression\n",
    "from sklearn.ensemble import RandomForestClassifier\n",
    "from sklearn.metrics import accuracy_score, confusion_matrix, ConfusionMatrixDisplay, roc_curve, roc_auc_score\n",
    "from sklearn.preprocessing import StandardScaler\n",
    "from imblearn.over_sampling import SMOTE\n",
    "import matplotlib.pyplot as plt\n",
    "from sklearn.pipeline import Pipeline\n",
    "from sklearn.model_selection import StratifiedKFold\n",
    "from scipy.stats import uniform, randint"
   ]
  },
  {
   "cell_type": "code",
   "execution_count": 2,
   "id": "ac61d5a5",
   "metadata": {},
   "outputs": [],
   "source": [
    "data = pd.read_csv(\"C:/Users/Akif/Desktop/football/rankingv5v2.csv\")\n",
    "\n",
    "features = [\n",
    "    'home_team_points', 'away_team_points', 'home_attack_value',\n",
    "    'away_attack_value', 'home_midfield_value', 'away_midfield_value',\n",
    "    'home_defender_value', 'away_defender_value', 'home_goalkeeper_value',\n",
    "    'away_goalkeeper_value', 'home_total_market_value', 'away_total_market_value',\n",
    "    'home_power_score', 'away_power_score'\n",
    "]\n",
    "\n",
    "X = data[features]\n",
    "y = data['result']"
   ]
  },
  {
   "cell_type": "code",
   "execution_count": 3,
   "id": "6049bba9",
   "metadata": {},
   "outputs": [],
   "source": [
    "X_train, X_test, y_train, y_test = train_test_split(X, y, test_size=0.3, random_state=42, stratify=y)"
   ]
  },
  {
   "cell_type": "code",
   "execution_count": 4,
   "id": "8253d01e",
   "metadata": {},
   "outputs": [],
   "source": [
    "smote = SMOTE(random_state=42)\n",
    "X_train_smote, y_train_smote = smote.fit_resample(X_train, y_train)\n",
    "\n",
    "\n",
    "pipeline = Pipeline([\n",
    "    ('scaler', StandardScaler()),\n",
    "    ('model', LogisticRegression())\n",
    "])\n",
    "\n",
    "param_distributions = {\n",
    "    'C': [0.001, 0.01, 0.1, 1, 10, 100],\n",
    "    'penalty': ['l2'],\n",
    "    'solver': ['lbfgs', 'saga'],\n",
    "    'max_iter': [100, 200, 500]\n",
    "}"
   ]
  },
  {
   "cell_type": "code",
   "execution_count": 5,
   "id": "aab69d71",
   "metadata": {},
   "outputs": [],
   "source": [
    "cv = StratifiedKFold(n_splits=10, shuffle=True, random_state=42)\n",
    "\n",
    "# RandomizedSearchCV for hyperparameter tuning\n",
    "random_search = RandomizedSearchCV(\n",
    "    pipeline,\n",
    "    param_distributions=param_distributions,\n",
    "    n_iter=100,  # Number of different combinations to try\n",
    "    scoring='accuracy',\n",
    "    n_jobs=-1,\n",
    "    cv=cv,\n",
    "    random_state=42,\n",
    "    verbose=2\n",
    ")"
   ]
  },
  {
   "cell_type": "code",
   "execution_count": 6,
   "id": "c50dd3db",
   "metadata": {},
   "outputs": [
    {
     "name": "stderr",
     "output_type": "stream",
     "text": [
      "C:\\Users\\Akif\\anaconda3\\lib\\site-packages\\sklearn\\model_selection\\_search.py:305: UserWarning: The total space of parameters 36 is smaller than n_iter=50. Running 36 iterations. For exhaustive searches, use GridSearchCV.\n",
      "  warnings.warn(\n"
     ]
    },
    {
     "name": "stdout",
     "output_type": "stream",
     "text": [
      "Fitting 10 folds for each of 36 candidates, totalling 360 fits\n",
      "Best Parameters: {'solver': 'lbfgs', 'penalty': 'l2', 'max_iter': 100, 'C': 0.01}\n"
     ]
    }
   ],
   "source": [
    "log_reg = LogisticRegression(class_weight='balanced')\n",
    "\n",
    "random_search = RandomizedSearchCV(log_reg, param_distributions, n_iter=50, cv=cv, n_jobs=-1, verbose=1)\n",
    "random_search.fit(X_train, y_train)\n",
    "print(f'Best Parameters: {random_search.best_params_}')"
   ]
  },
  {
   "cell_type": "code",
   "execution_count": 7,
   "id": "fe67780b",
   "metadata": {},
   "outputs": [
    {
     "name": "stdout",
     "output_type": "stream",
     "text": [
      "Cross-validated Accuracy: 0.4891\n"
     ]
    }
   ],
   "source": [
    "cv_accuracy = cross_val_score(random_search.best_estimator_, X_train, y_train, cv=cv, scoring='accuracy')\n",
    "print(f'Cross-validated Accuracy: {cv_accuracy.mean():.4f}')"
   ]
  },
  {
   "cell_type": "code",
   "execution_count": 8,
   "id": "af9ee14a",
   "metadata": {},
   "outputs": [
    {
     "name": "stdout",
     "output_type": "stream",
     "text": [
      "Test Accuracy: 0.4976\n"
     ]
    }
   ],
   "source": [
    "test_accuracy = random_search.best_estimator_.score(X_test, y_test)\n",
    "print(f'Test Accuracy: {test_accuracy:.4f}')"
   ]
  },
  {
   "cell_type": "code",
   "execution_count": 9,
   "id": "2ea856da",
   "metadata": {},
   "outputs": [
    {
     "name": "stdout",
     "output_type": "stream",
     "text": [
      "Cross-validated Accuracy: 0.4737\n"
     ]
    }
   ],
   "source": [
    "best_model = random_search.best_estimator_\n",
    "\n",
    "cv_scores = cross_val_score(best_model, X_train_smote, y_train_smote, cv=cv)\n",
    "print(f\"Cross-validated Accuracy: {np.mean(cv_scores):.4f}\")"
   ]
  },
  {
   "cell_type": "code",
   "execution_count": 10,
   "id": "e8351f37",
   "metadata": {},
   "outputs": [
    {
     "name": "stdout",
     "output_type": "stream",
     "text": [
      "Test Accuracy: 0.4976\n"
     ]
    }
   ],
   "source": [
    "y_pred = best_model.predict(X_test)\n",
    "accuracy = accuracy_score(y_test, y_pred)\n",
    "print(f'Test Accuracy: {accuracy:.4f}')"
   ]
  },
  {
   "cell_type": "code",
   "execution_count": 11,
   "id": "b39c5182",
   "metadata": {},
   "outputs": [
    {
     "data": {
      "image/png": "[encoded data removed]",
      "text/plain": [
       "<Figure size 640x480 with 2 Axes>"
      ]
     },
     "metadata": {},
     "output_type": "display_data"
    }
   ],
   "source": [
    "cm = confusion_matrix(y_test, y_pred)\n",
    "disp = ConfusionMatrixDisplay(confusion_matrix=cm, display_labels=['Home', 'Draw', 'Away'])\n",
    "disp.plot(cmap=plt.cm.Blues)\n",
    "plt.show()"
   ]
  },
  {
   "cell_type": "code",
   "execution_count": 12,
   "id": "4c86c94a",
   "metadata": {},
   "outputs": [
    {
     "name": "stdout",
     "output_type": "stream",
     "text": [
      "Multiclass ROC AUC Score: 0.6740\n"
     ]
    }
   ],
   "source": [
    "from sklearn.metrics import roc_auc_score\n",
    "from sklearn.preprocessing import label_binarize\n",
    "\n",
    "# Binarize the output for multiclass roc_auc_score\n",
    "y_test_binarized = label_binarize(y_test, classes=[0, 1, 2])  # Assuming 0=Home, 1=Draw, 2=Away\n",
    "y_pred_prob = best_model.predict_proba(X_test)\n",
    "\n",
    "# Calculate the ROC AUC score with 'ovr' (One-vs-Rest)\n",
    "roc_auc = roc_auc_score(y_test_binarized, y_pred_prob, multi_class='ovr')\n",
    "\n",
    "print(f'Multiclass ROC AUC Score: {roc_auc:.4f}')"
   ]
  },
  {
   "cell_type": "code",
   "execution_count": 13,
   "id": "b8ecaff9",
   "metadata": {},
   "outputs": [
    {
     "ename": "NameError",
     "evalue": "name 'fpr' is not defined",
     "output_type": "error",
     "traceback": [
      "\u001b[1;31m---------------------------------------------------------------------------\u001b[0m",
      "\u001b[1;31mNameError\u001b[0m                                 Traceback (most recent call last)",
      "Cell \u001b[1;32mIn[13], line 2\u001b[0m\n\u001b[0;32m      1\u001b[0m plt\u001b[38;5;241m.\u001b[39mfigure()\n\u001b[1;32m----> 2\u001b[0m plt\u001b[38;5;241m.\u001b[39mplot(\u001b[43mfpr\u001b[49m, tpr, color\u001b[38;5;241m=\u001b[39m\u001b[38;5;124m'\u001b[39m\u001b[38;5;124morange\u001b[39m\u001b[38;5;124m'\u001b[39m, label\u001b[38;5;241m=\u001b[39m\u001b[38;5;124mf\u001b[39m\u001b[38;5;124m'\u001b[39m\u001b[38;5;124mROC curve (area = \u001b[39m\u001b[38;5;132;01m{\u001b[39;00mroc_auc\u001b[38;5;132;01m:\u001b[39;00m\u001b[38;5;124m.2f\u001b[39m\u001b[38;5;132;01m}\u001b[39;00m\u001b[38;5;124m)\u001b[39m\u001b[38;5;124m'\u001b[39m)\n\u001b[0;32m      3\u001b[0m plt\u001b[38;5;241m.\u001b[39mplot([\u001b[38;5;241m0\u001b[39m, \u001b[38;5;241m1\u001b[39m], [\u001b[38;5;241m0\u001b[39m, \u001b[38;5;241m1\u001b[39m], color\u001b[38;5;241m=\u001b[39m\u001b[38;5;124m'\u001b[39m\u001b[38;5;124mnavy\u001b[39m\u001b[38;5;124m'\u001b[39m, linestyle\u001b[38;5;241m=\u001b[39m\u001b[38;5;124m'\u001b[39m\u001b[38;5;124m--\u001b[39m\u001b[38;5;124m'\u001b[39m)\n\u001b[0;32m      4\u001b[0m plt\u001b[38;5;241m.\u001b[39mxlabel(\u001b[38;5;124m'\u001b[39m\u001b[38;5;124mFalse Positive Rate\u001b[39m\u001b[38;5;124m'\u001b[39m)\n",
      "\u001b[1;31mNameError\u001b[0m: name 'fpr' is not defined"
     ]
    },
    {
     "data": {
      "text/plain": [
       "<Figure size 640x480 with 0 Axes>"
      ]
     },
     "metadata": {},
     "output_type": "display_data"
    }
   ],
   "source": [
    "plt.figure()\n",
    "plt.plot(fpr, tpr, color='orange', label=f'ROC curve (area = {roc_auc:.2f})')\n",
    "plt.plot([0, 1], [0, 1], color='navy', linestyle='--')\n",
    "plt.xlabel('False Positive Rate')\n",
    "plt.ylabel('True Positive Rate')\n",
    "plt.title('Receiver Operating Characteristic')\n",
    "plt.legend(loc=\"lower right\")\n",
    "plt.show()"
   ]
  },
  {
   "cell_type": "code",
   "execution_count": 14,
   "id": "d541d82d",
   "metadata": {},
   "outputs": [],
   "source": [
    "def predict_match(home_team_id, away_team_id, data, model):\n",
    "    match_data = data[\n",
    "        (data['home_club_id'] == home_team_id) & \n",
    "        (data['away_club_id'] == away_team_id)\n",
    "    ].iloc[0]\n",
    "\n",
    "    input_data = pd.DataFrame({\n",
    "        'home_team_points': [match_data['home_team_points']],\n",
    "        'away_team_points': [match_data['away_team_points']],\n",
    "        'home_attack_value': [match_data['home_attack_value']],\n",
    "        'away_attack_value': [match_data['away_attack_value']],\n",
    "        'home_midfield_value': [match_data['home_midfield_value']],\n",
    "        'away_midfield_value': [match_data['away_midfield_value']],\n",
    "        'home_defender_value': [match_data['home_defender_value']],\n",
    "        'away_defender_value': [match_data['away_defender_value']],\n",
    "        'home_goalkeeper_value': [match_data['home_goalkeeper_value']],\n",
    "        'away_goalkeeper_value': [match_data['away_goalkeeper_value']],\n",
    "        'home_total_market_value': [match_data['home_total_market_value']],\n",
    "        'away_total_market_value': [match_data['away_total_market_value']],\n",
    "        'home_power_score': [match_data['home_power_score']],\n",
    "        'away_power_score': [match_data['away_power_score']],\n",
    "    })\n",
    "\n",
    "    # No need to scale manually; pass the data directly to the model pipeline\n",
    "    prediction_proba = model.predict_proba(input_data)\n",
    "\n",
    "    home_win_proba = prediction_proba[0][1]\n",
    "    draw_proba = prediction_proba[0][0]\n",
    "    away_win_proba = prediction_proba[0][2]\n",
    "\n",
    "    print(f\"Prediction Probabilities:\\nHome Win: {home_win_proba:.2f}\\nDraw: {draw_proba:.2f}\\nAway Win: {away_win_proba:.2f}\")\n",
    "\n",
    "    if home_win_proba > draw_proba and home_win_proba > away_win_proba:\n",
    "        print(\"Predicted Outcome: Home Win\")\n",
    "    elif away_win_proba > draw_proba and away_win_proba > home_win_proba:\n",
    "        print(\"Predicted Outcome: Away Win\")\n",
    "    else:\n",
    "        print(\"Predicted Outcome: Draw\")"
   ]
  },
  {
   "cell_type": "code",
   "execution_count": 15,
   "id": "fa19354c",
   "metadata": {},
   "outputs": [
    {
     "ename": "AttributeError",
     "evalue": "'LogisticRegression' object has no attribute 'named_steps'",
     "output_type": "error",
     "traceback": [
      "\u001b[1;31m---------------------------------------------------------------------------\u001b[0m",
      "\u001b[1;31mAttributeError\u001b[0m                            Traceback (most recent call last)",
      "Cell \u001b[1;32mIn[15], line 1\u001b[0m\n\u001b[1;32m----> 1\u001b[0m scaler \u001b[38;5;241m=\u001b[39m \u001b[43mbest_model\u001b[49m\u001b[38;5;241;43m.\u001b[39;49m\u001b[43mnamed_steps\u001b[49m[\u001b[38;5;124m'\u001b[39m\u001b[38;5;124mscaler\u001b[39m\u001b[38;5;124m'\u001b[39m]\n",
      "\u001b[1;31mAttributeError\u001b[0m: 'LogisticRegression' object has no attribute 'named_steps'"
     ]
    }
   ],
   "source": [
    "scaler = best_model.named_steps['scaler']"
   ]
  },
  {
   "cell_type": "code",
   "execution_count": 16,
   "id": "fd92e923",
   "metadata": {},
   "outputs": [
    {
     "ename": "NameError",
     "evalue": "name 'scaler' is not defined",
     "output_type": "error",
     "traceback": [
      "\u001b[1;31m---------------------------------------------------------------------------\u001b[0m",
      "\u001b[1;31mNameError\u001b[0m                                 Traceback (most recent call last)",
      "Cell \u001b[1;32mIn[16], line 1\u001b[0m\n\u001b[1;32m----> 1\u001b[0m input_data_scaled \u001b[38;5;241m=\u001b[39m \u001b[43mscaler\u001b[49m\u001b[38;5;241m.\u001b[39mtransform(X)\n",
      "\u001b[1;31mNameError\u001b[0m: name 'scaler' is not defined"
     ]
    }
   ],
   "source": [
    "input_data_scaled = scaler.transform(X)"
   ]
  },
  {
   "cell_type": "code",
   "execution_count": 18,
   "id": "45154a5b",
   "metadata": {},
   "outputs": [
    {
     "name": "stdout",
     "output_type": "stream",
     "text": [
      "Prediction Probabilities:\n",
      "Home Win: 0.22\n",
      "Draw: 0.38\n",
      "Away Win: 0.40\n",
      "Predicted Outcome: Away Win\n"
     ]
    }
   ],
   "source": [
    "home_team_id = 2832\n",
    "away_team_id = 36\n",
    "\n",
    "predict_match(home_team_id, away_team_id, data, best_model);"
   ]
  },
  {
   "cell_type": "code",
   "execution_count": null,
   "id": "9e3e2014",
   "metadata": {},
   "outputs": [],
   "source": []
  }
 ],
 "metadata": {
  "kernelspec": {
   "display_name": "Python 3 (ipykernel)",
   "language": "python",
   "name": "python3"
  },
  "language_info": {
   "codemirror_mode": {
    "name": "ipython",
    "version": 3
   },
   "file_extension": ".py",
   "mimetype": "text/x-python",
   "name": "python",
   "nbconvert_exporter": "python",
   "pygments_lexer": "ipython3",
   "version": "3.10.9"
  }
 },
 "nbformat": 4,
 "nbformat_minor": 5
}
