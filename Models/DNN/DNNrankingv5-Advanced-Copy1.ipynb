{
 "cells": [
  {
   "cell_type": "code",
   "execution_count": 41,
   "id": "2b4b3865",
   "metadata": {},
   "outputs": [],
   "source": [
    "import pandas as pd\n",
    "import numpy as np\n",
    "from sklearn.preprocessing import OneHotEncoder, StandardScaler\n",
    "from sklearn.model_selection import train_test_split, KFold\n",
    "from sklearn.metrics import classification_report, confusion_matrix\n",
    "from keras.models import Sequential\n",
    "from keras.layers import Dense, Dropout, BatchNormalization, LeakyReLU\n",
    "from keras.optimizers import Adam, RMSprop\n",
    "from keras.callbacks import EarlyStopping, ReduceLROnPlateau\n",
    "import matplotlib.pyplot as plt\n",
    "import seaborn as sns\n",
    "from sklearn.utils import resample, shuffle\n",
    "from tensorflow.keras.wrappers.scikit_learn import KerasClassifier\n",
    "from sklearn.model_selection import GridSearchCV"
   ]
  },
  {
   "cell_type": "code",
   "execution_count": 42,
   "id": "6a29300f",
   "metadata": {},
   "outputs": [],
   "source": [
    "data = pd.read_csv(\"C:/Users/Akif/Desktop/football/rankingv5v3.csv\")"
   ]
  },
  {
   "cell_type": "code",
   "execution_count": 43,
   "id": "a2459287",
   "metadata": {},
   "outputs": [],
   "source": [
    "home_win = data[data['result'] == 1]\n",
    "away_win = data[data['result'] == 2]\n",
    "draw = data[data['result'] == 0]"
   ]
  },
  {
   "cell_type": "code",
   "execution_count": 44,
   "id": "cd7487a8",
   "metadata": {},
   "outputs": [],
   "source": [
    "draw_upsampled = resample(draw, replace=True, n_samples=len(home_win), random_state=42)\n",
    "away_win_upsampled = resample(away_win, replace=True, n_samples=len(home_win), random_state=42)\n",
    "\n",
    "data_balanced = pd.concat([home_win, draw_upsampled, away_win_upsampled])\n",
    "data_balanced = shuffle(data_balanced, random_state=42)"
   ]
  },
  {
   "cell_type": "code",
   "execution_count": 45,
   "id": "30c7ae9b",
   "metadata": {},
   "outputs": [],
   "source": [
    "selected_columns = [\n",
    "    'home_club_id', 'away_club_id', 'attendance', 'result', 'home_team_points', 'away_team_points',\n",
    "    'home_attack_value', 'away_attack_value', 'home_midfield_value',\n",
    "    'away_midfield_value', 'home_defender_value', 'away_defender_value',\n",
    "    'home_goalkeeper_value', 'away_goalkeeper_value',\n",
    "    'home_total_market_value', 'away_total_market_value',\n",
    "    'home_power_score', 'away_power_score'\n",
    "]\n",
    "data = data_balanced[selected_columns]"
   ]
  },
  {
   "cell_type": "code",
   "execution_count": 46,
   "id": "5fb71384",
   "metadata": {},
   "outputs": [],
   "source": [
    "X = data.drop('result', axis=1)\n",
    "y = data['result']"
   ]
  },
  {
   "cell_type": "code",
   "execution_count": 47,
   "id": "0e2abff6",
   "metadata": {},
   "outputs": [],
   "source": [
    "scaler = StandardScaler()\n",
    "X = scaler.fit_transform(X)"
   ]
  },
  {
   "cell_type": "code",
   "execution_count": 48,
   "id": "fb5ec321",
   "metadata": {},
   "outputs": [],
   "source": [
    "encoder = OneHotEncoder(sparse_output=False)\n",
    "y = encoder.fit_transform(y.values.reshape(-1, 1))"
   ]
  },
  {
   "cell_type": "code",
   "execution_count": 49,
   "id": "59cbf440",
   "metadata": {},
   "outputs": [],
   "source": [
    "X, y = shuffle(X, y, random_state=42)"
   ]
  },
  {
   "cell_type": "code",
   "execution_count": 50,
   "id": "651d1d91",
   "metadata": {},
   "outputs": [],
   "source": [
    "from tensorflow.keras.models import Sequential\n",
    "from tensorflow.keras.layers import Dense, Dropout, BatchNormalization, LeakyReLU, Activation\n",
    "from tensorflow.keras.optimizers import Adam, RMSprop\n",
    "from tensorflow.keras.regularizers import l2\n",
    "\n",
    "def create_complex_model(optimizer='adam', learning_rate=0.001, dropout_rate=0.3, neurons=128, activation='relu', l2_lambda=0.01):\n",
    "    model = Sequential()\n",
    "\n",
    "    model.add(Dense(neurons, input_shape=(X.shape[1],), kernel_regularizer=l2(l2_lambda)))\n",
    "    model.add(BatchNormalization())\n",
    "    model.add(LeakyReLU() if activation == 'leaky_relu' else Activation(activation))\n",
    "    model.add(Dropout(dropout_rate))\n",
    "    \n",
    "    model.add(Dense(neurons, kernel_regularizer=l2(l2_lambda)))\n",
    "    model.add(BatchNormalization())\n",
    "    model.add(LeakyReLU() if activation == 'leaky_relu' else Activation(activation))\n",
    "    model.add(Dropout(dropout_rate))\n",
    "    \n",
    "    model.add(Dense(neurons//2, kernel_regularizer=l2(l2_lambda)))\n",
    "    model.add(BatchNormalization())\n",
    "    model.add(LeakyReLU() if activation == 'leaky_relu' else Activation(activation))\n",
    "    model.add(Dropout(dropout_rate + 0.1))\n",
    "    \n",
    "    model.add(Dense(neurons//4, kernel_regularizer=l2(l2_lambda)))\n",
    "    model.add(BatchNormalization())\n",
    "    model.add(LeakyReLU() if activation == 'leaky_relu' else Activation(activation))\n",
    "    model.add(Dropout(dropout_rate + 0.2))\n",
    "\n",
    "    model.add(Dense(neurons//8, kernel_regularizer=l2(l2_lambda)))\n",
    "    model.add(BatchNormalization())\n",
    "    model.add(LeakyReLU() if activation == 'leaky_relu' else Activation(activation))\n",
    "    model.add(Dropout(dropout_rate + 0.3))\n",
    "    \n",
    "    model.add(Dense(3, activation='softmax'))\n",
    "    \n",
    "    optimizer_instance = Adam(learning_rate=learning_rate) if optimizer == 'adam' else RMSprop(learning_rate=learning_rate)\n",
    "    model.compile(optimizer=optimizer_instance, loss='categorical_crossentropy', metrics=['accuracy'])\n",
    "    \n",
    "    return model"
   ]
  },
  {
   "cell_type": "code",
   "execution_count": 51,
   "id": "a8d7cd74",
   "metadata": {},
   "outputs": [
    {
     "name": "stderr",
     "output_type": "stream",
     "text": [
      "C:\\Users\\Akif\\AppData\\Local\\Temp\\ipykernel_12188\\2566461152.py:1: DeprecationWarning: KerasClassifier is deprecated, use Sci-Keras (https://github.com/adriangb/scikeras) instead. See https://www.adriangb.com/scikeras/stable/migration.html for help migrating.\n",
      "  model = KerasClassifier(build_fn=create_model, verbose=0)\n"
     ]
    }
   ],
   "source": [
    "model = KerasClassifier(build_fn=create_model, verbose=0)"
   ]
  },
  {
   "cell_type": "code",
   "execution_count": 52,
   "id": "7144ec7a",
   "metadata": {},
   "outputs": [],
   "source": [
    "param_grid = {\n",
    "    'batch_size': [64],\n",
    "    'epochs': [40],\n",
    "    'optimizer': ['rmsprop'],\n",
    "    'learning_rate': [0.0001],\n",
    "    'dropout_rate': [0.4],\n",
    "    'neurons': [1024],\n",
    "    'activation': ['leaky_relu']\n",
    "}\n",
    "\n",
    "kf = KFold(n_splits=3, shuffle=True, random_state=42)"
   ]
  },
  {
   "cell_type": "code",
   "execution_count": 53,
   "id": "d524a54a",
   "metadata": {},
   "outputs": [
    {
     "name": "stdout",
     "output_type": "stream",
     "text": [
      "Fitting 3 folds for each of 1 candidates, totalling 3 fits\n"
     ]
    }
   ],
   "source": [
    "grid = GridSearchCV(estimator=model, param_grid=param_grid, cv=kf, n_jobs=-1, verbose=1)\n",
    "grid_result = grid.fit(X, y)"
   ]
  },
  {
   "cell_type": "code",
   "execution_count": 54,
   "id": "21ae943f",
   "metadata": {},
   "outputs": [
    {
     "name": "stdout",
     "output_type": "stream",
     "text": [
      "Fitting 3 folds for each of 1 candidates, totalling 3 fits\n"
     ]
    }
   ],
   "source": [
    "grid = GridSearchCV(estimator=model, param_grid=param_grid, cv=kf, n_jobs=-1, verbose=2)\n",
    "grid_result = grid.fit(X, y)"
   ]
  },
  {
   "cell_type": "code",
   "execution_count": 55,
   "id": "396a279c",
   "metadata": {},
   "outputs": [
    {
     "name": "stdout",
     "output_type": "stream",
     "text": [
      "Fitting 3 folds for each of 1 candidates, totalling 3 fits\n"
     ]
    }
   ],
   "source": [
    "grid = GridSearchCV(estimator=model, param_grid=param_grid, cv=kf, n_jobs=-1, verbose=3)\n",
    "grid_result = grid.fit(X, y)"
   ]
  },
  {
   "cell_type": "code",
   "execution_count": 56,
   "id": "13466635",
   "metadata": {},
   "outputs": [
    {
     "name": "stdout",
     "output_type": "stream",
     "text": [
      "Best Parameters: {'activation': 'leaky_relu', 'batch_size': 64, 'dropout_rate': 0.4, 'epochs': 40, 'learning_rate': 0.0001, 'neurons': 1024, 'optimizer': 'rmsprop'}\n",
      "Best Cross-Validation Accuracy: 0.48563958207766217\n"
     ]
    }
   ],
   "source": [
    "print(f\"Best Parameters: {grid_result.best_params_}\")\n",
    "print(f\"Best Cross-Validation Accuracy: {grid_result.best_score_}\")"
   ]
  },
  {
   "cell_type": "code",
   "execution_count": 57,
   "id": "6385b6a1",
   "metadata": {},
   "outputs": [],
   "source": [
    "best_model = grid_result.best_estimator_"
   ]
  },
  {
   "cell_type": "code",
   "execution_count": 58,
   "id": "7d47a1c8",
   "metadata": {},
   "outputs": [],
   "source": [
    "X_train, X_test, y_train, y_test = train_test_split(X, y, test_size=0.25, random_state=42)"
   ]
  },
  {
   "cell_type": "code",
   "execution_count": 59,
   "id": "266938f8",
   "metadata": {},
   "outputs": [
    {
     "data": {
      "text/plain": [
       "<keras.callbacks.History at 0x17aaa604460>"
      ]
     },
     "execution_count": 59,
     "metadata": {},
     "output_type": "execute_result"
    }
   ],
   "source": [
    "best_model.fit(X_train, y_train)"
   ]
  },
  {
   "cell_type": "code",
   "execution_count": 60,
   "id": "8b1c7fd7",
   "metadata": {},
   "outputs": [
    {
     "name": "stdout",
     "output_type": "stream",
     "text": [
      "192/192 [==============================] - 1s 3ms/step\n",
      "              precision    recall  f1-score   support\n",
      "\n",
      "           0       0.39      0.36      0.38      2055\n",
      "           1       0.52      0.53      0.53      2074\n",
      "           2       0.52      0.55      0.53      1991\n",
      "\n",
      "    accuracy                           0.48      6120\n",
      "   macro avg       0.48      0.48      0.48      6120\n",
      "weighted avg       0.48      0.48      0.48      6120\n",
      "\n"
     ]
    }
   ],
   "source": [
    "y_pred = best_model.predict(X_test)\n",
    "y_true_classes = np.argmax(y_test, axis=1)\n",
    "\n",
    "\n",
    "print(classification_report(y_true_classes, y_pred))"
   ]
  },
  {
   "cell_type": "code",
   "execution_count": 61,
   "id": "9d8254ca",
   "metadata": {},
   "outputs": [
    {
     "data": {
      "image/png": "[encoded data removed]",
      "text/plain": [
       "<Figure size 1000x700 with 2 Axes>"
      ]
     },
     "metadata": {},
     "output_type": "display_data"
    }
   ],
   "source": [
    "conf_matrix = confusion_matrix(y_true_classes, y_pred)\n",
    "plt.figure(figsize=(10, 7))\n",
    "sns.heatmap(conf_matrix, annot=True, fmt='d', cmap='Blues', xticklabels=['Draw', 'Home Win', 'Away Win'], yticklabels=['Draw', 'Home Win', 'Away Win'])\n",
    "plt.xlabel('Predicted')\n",
    "plt.ylabel('Actual')\n",
    "plt.title('Confusion Matrix')\n",
    "plt.show()"
   ]
  },
  {
   "cell_type": "code",
   "execution_count": 27,
   "id": "becd645f",
   "metadata": {},
   "outputs": [
    {
     "ename": "KeyError",
     "evalue": "'accuracy'",
     "output_type": "error",
     "traceback": [
      "\u001b[1;31m---------------------------------------------------------------------------\u001b[0m",
      "\u001b[1;31mKeyError\u001b[0m                                  Traceback (most recent call last)",
      "Cell \u001b[1;32mIn[27], line 2\u001b[0m\n\u001b[0;32m      1\u001b[0m history \u001b[38;5;241m=\u001b[39m best_model\u001b[38;5;241m.\u001b[39mmodel\u001b[38;5;241m.\u001b[39mhistory\u001b[38;5;241m.\u001b[39mhistory\n\u001b[1;32m----> 2\u001b[0m plt\u001b[38;5;241m.\u001b[39mplot(\u001b[43mhistory\u001b[49m\u001b[43m[\u001b[49m\u001b[38;5;124;43m'\u001b[39;49m\u001b[38;5;124;43maccuracy\u001b[39;49m\u001b[38;5;124;43m'\u001b[39;49m\u001b[43m]\u001b[49m, label\u001b[38;5;241m=\u001b[39m\u001b[38;5;124m'\u001b[39m\u001b[38;5;124maccuracy\u001b[39m\u001b[38;5;124m'\u001b[39m)\n\u001b[0;32m      3\u001b[0m plt\u001b[38;5;241m.\u001b[39mplot(history[\u001b[38;5;124m'\u001b[39m\u001b[38;5;124mval_accuracy\u001b[39m\u001b[38;5;124m'\u001b[39m], label \u001b[38;5;241m=\u001b[39m \u001b[38;5;124m'\u001b[39m\u001b[38;5;124mval_accuracy\u001b[39m\u001b[38;5;124m'\u001b[39m)\n\u001b[0;32m      4\u001b[0m plt\u001b[38;5;241m.\u001b[39mxlabel(\u001b[38;5;124m'\u001b[39m\u001b[38;5;124mEpoch\u001b[39m\u001b[38;5;124m'\u001b[39m)\n",
      "\u001b[1;31mKeyError\u001b[0m: 'accuracy'"
     ]
    }
   ],
   "source": [
    "history = best_model.model.history.history\n",
    "plt.plot(history['accuracy'], label='accuracy')\n",
    "plt.plot(history['val_accuracy'], label = 'val_accuracy')\n",
    "plt.xlabel('Epoch')\n",
    "plt.ylabel('Accuracy')\n",
    "plt.ylim([0, 1])\n",
    "plt.legend(loc='lower right')\n",
    "plt.show()"
   ]
  },
  {
   "cell_type": "code",
   "execution_count": null,
   "id": "38700918",
   "metadata": {},
   "outputs": [],
   "source": []
  }
 ],
 "metadata": {
  "kernelspec": {
   "display_name": "Python 3 (ipykernel)",
   "language": "python",
   "name": "python3"
  },
  "language_info": {
   "codemirror_mode": {
    "name": "ipython",
    "version": 3
   },
   "file_extension": ".py",
   "mimetype": "text/x-python",
   "name": "python",
   "nbconvert_exporter": "python",
   "pygments_lexer": "ipython3",
   "version": "3.10.9"
  }
 },
 "nbformat": 4,
 "nbformat_minor": 5
}
