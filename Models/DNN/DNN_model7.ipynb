{
 "cells": [
  {
   "cell_type": "code",
   "execution_count": 1,
   "id": "70c8c5a2",
   "metadata": {},
   "outputs": [],
   "source": [
    "import pandas as pd\n",
    "import numpy as np\n",
    "from sklearn.preprocessing import OneHotEncoder, RobustScaler\n",
    "from sklearn.model_selection import train_test_split\n",
    "from sklearn.utils import shuffle, resample\n",
    "from sklearn.metrics import classification_report, confusion_matrix\n",
    "from keras.models import Sequential\n",
    "from keras.layers import Dense, Dropout, BatchNormalization\n",
    "from keras.optimizers import Adam\n",
    "from keras.callbacks import EarlyStopping, ReduceLROnPlateau\n",
    "from keras.regularizers import l2\n",
    "import matplotlib.pyplot as plt\n",
    "import seaborn as sns\n",
    "from tensorflow.keras.utils import to_categorical\n",
    "import keras_tuner as kt"
   ]
  },
  {
   "cell_type": "code",
   "execution_count": 2,
   "id": "40dd8da6",
   "metadata": {},
   "outputs": [],
   "source": [
    "data = pd.read_csv(\"C:/Users/Akif/Desktop/football/rankingv5v5.csv\")"
   ]
  },
  {
   "cell_type": "code",
   "execution_count": 3,
   "id": "49cd2fba",
   "metadata": {},
   "outputs": [
    {
     "name": "stdout",
     "output_type": "stream",
     "text": [
      "Class distribution before balancing:\n",
      "1    8159\n",
      "2    5358\n",
      "0    4554\n",
      "Name: result, dtype: int64\n"
     ]
    }
   ],
   "source": [
    "selected_columns = [\n",
    "    'home_club_id', 'away_club_id', 'attendance', 'home_team_points', 'away_team_points',\n",
    "    'home_attack_value', 'away_attack_value', 'home_midfield_value', 'away_midfield_value',\n",
    "    'home_defender_value', 'away_defender_value', 'home_goalkeeper_value', 'away_goalkeeper_value',\n",
    "    'home_total_market_value', 'away_total_market_value', 'home_power_score', 'away_power_score', 'result'\n",
    "]\n",
    "data = data[selected_columns]\n",
    "\n",
    "data = data.dropna()\n",
    "\n",
    "print(\"Class distribution before balancing:\")\n",
    "print(data['result'].value_counts())"
   ]
  },
  {
   "cell_type": "code",
   "execution_count": 4,
   "id": "6d7ba40a",
   "metadata": {},
   "outputs": [],
   "source": [
    "class_0 = data[data['result'] == 0]  \n",
    "class_1 = data[data['result'] == 1] \n",
    "class_2 = data[data['result'] == 2] "
   ]
  },
  {
   "cell_type": "code",
   "execution_count": 5,
   "id": "fe373a75",
   "metadata": {},
   "outputs": [],
   "source": [
    "max_size = max(len(class_0), len(class_1), len(class_2))\n",
    "class_0_upsampled = resample(class_0, replace=True, n_samples=max_size, random_state=42)\n",
    "class_1_upsampled = resample(class_1, replace=True, n_samples=max_size, random_state=42)\n",
    "class_2_upsampled = resample(class_2, replace=True, n_samples=max_size, random_state=42)"
   ]
  },
  {
   "cell_type": "code",
   "execution_count": 6,
   "id": "9d2ff2be",
   "metadata": {},
   "outputs": [],
   "source": [
    "data_balanced = pd.concat([class_0_upsampled, class_1_upsampled, class_2_upsampled])\n",
    "data_balanced = shuffle(data_balanced, random_state=42)"
   ]
  },
  {
   "cell_type": "code",
   "execution_count": 7,
   "id": "d595da8c",
   "metadata": {},
   "outputs": [
    {
     "name": "stdout",
     "output_type": "stream",
     "text": [
      "Class distribution after balancing:\n",
      "2    8159\n",
      "1    8159\n",
      "0    8159\n",
      "Name: result, dtype: int64\n"
     ]
    }
   ],
   "source": [
    "print(\"Class distribution after balancing:\")\n",
    "print(data_balanced['result'].value_counts())"
   ]
  },
  {
   "cell_type": "code",
   "execution_count": 8,
   "id": "d1a2cf60",
   "metadata": {},
   "outputs": [],
   "source": [
    "X = data_balanced.drop('result', axis=1)\n",
    "y = data_balanced['result']"
   ]
  },
  {
   "cell_type": "code",
   "execution_count": 9,
   "id": "7393ba50",
   "metadata": {},
   "outputs": [],
   "source": [
    "scaler = RobustScaler()\n",
    "X = scaler.fit_transform(X)"
   ]
  },
  {
   "cell_type": "code",
   "execution_count": 10,
   "id": "6a796314",
   "metadata": {},
   "outputs": [],
   "source": [
    "encoder = OneHotEncoder(sparse_output=False)\n",
    "y = encoder.fit_transform(y.values.reshape(-1, 1))\n",
    "\n",
    "X, y = shuffle(X, y, random_state=42)\n",
    "X_train, X_test, y_train, y_test = train_test_split(X, y, test_size=0.25, random_state=42)"
   ]
  },
  {
   "cell_type": "code",
   "execution_count": 11,
   "id": "a38498db",
   "metadata": {},
   "outputs": [],
   "source": [
    "def build_model(hp):\n",
    "    model = Sequential()\n",
    "    \n",
    "    hp_units = hp.Int('units', min_value=64, max_value=512, step=64)\n",
    "    model.add(Dense(units=hp_units, activation='relu', input_shape=(X_train.shape[1],), kernel_regularizer=l2(0.001)))\n",
    "\n",
    "    hp_dropout = hp.Float('dropout_rate', min_value=0.2, max_value=0.5, step=0.1)\n",
    "    model.add(BatchNormalization())\n",
    "    model.add(Dropout(rate=hp_dropout))\n",
    "\n",
    "    hp_units_2 = hp.Int('units_2', min_value=64, max_value=256, step=64)\n",
    "    model.add(Dense(units=hp_units_2, activation='relu', kernel_regularizer=l2(0.001)))\n",
    "    model.add(BatchNormalization())\n",
    "    model.add(Dropout(rate=hp_dropout))\n",
    "\n",
    "    model.add(Dense(3, activation='softmax'))\n",
    "\n",
    "    hp_learning_rate = hp.Float('learning_rate', min_value=1e-5, max_value=1e-2, sampling='log')\n",
    "    \n",
    "    model.compile(optimizer=Adam(learning_rate=hp_learning_rate), \n",
    "                  loss='categorical_crossentropy', \n",
    "                  metrics=['accuracy'])\n",
    "    \n",
    "    return model"
   ]
  },
  {
   "cell_type": "code",
   "execution_count": 12,
   "id": "43be0e6b",
   "metadata": {},
   "outputs": [
    {
     "name": "stdout",
     "output_type": "stream",
     "text": [
      "Reloading Tuner from my_dir\\football_tuning\\tuner0.json\n"
     ]
    }
   ],
   "source": [
    "tuner = kt.RandomSearch(\n",
    "    build_model,\n",
    "    objective='val_accuracy',\n",
    "    max_trials=30,  \n",
    "    executions_per_trial=3, \n",
    "    directory='my_dir',\n",
    "    project_name='football_tuning')\n"
   ]
  },
  {
   "cell_type": "code",
   "execution_count": 13,
   "id": "dec77710",
   "metadata": {},
   "outputs": [],
   "source": [
    "early_stopping = EarlyStopping(monitor='val_loss', patience=10, restore_best_weights=True)\n",
    "lr_scheduler = ReduceLROnPlateau(monitor='val_loss', factor=0.5, patience=5, min_lr=1e-7)"
   ]
  },
  {
   "cell_type": "code",
   "execution_count": 14,
   "id": "86eeaa4b",
   "metadata": {},
   "outputs": [
    {
     "name": "stdout",
     "output_type": "stream",
     "text": [
      "Trial 30 Complete [00h 12m 24s]\n",
      "val_accuracy: 0.5078975955645243\n",
      "\n",
      "Best val_accuracy So Far: 0.7215686241785685\n",
      "Total elapsed time: 2d 09h 09m 05s\n",
      "Epoch 1/150\n",
      "574/574 [==============================] - 5s 8ms/step - loss: 0.6204 - accuracy: 0.7671 - val_loss: 0.8023 - val_accuracy: 0.7190 - lr: 3.3610e-05\n",
      "Epoch 2/150\n",
      "574/574 [==============================] - 3s 4ms/step - loss: 0.6253 - accuracy: 0.7631 - val_loss: 0.8054 - val_accuracy: 0.7204 - lr: 3.3610e-05\n",
      "Epoch 3/150\n",
      "574/574 [==============================] - 3s 6ms/step - loss: 0.6123 - accuracy: 0.7717 - val_loss: 0.8050 - val_accuracy: 0.7170 - lr: 3.3610e-05\n",
      "Epoch 4/150\n",
      "574/574 [==============================] - 3s 4ms/step - loss: 0.6185 - accuracy: 0.7693 - val_loss: 0.8085 - val_accuracy: 0.7183 - lr: 3.3610e-05\n",
      "Epoch 5/150\n",
      "574/574 [==============================] - 4s 7ms/step - loss: 0.6192 - accuracy: 0.7682 - val_loss: 0.8048 - val_accuracy: 0.7257 - lr: 3.3610e-05\n",
      "Epoch 6/150\n",
      "574/574 [==============================] - 3s 4ms/step - loss: 0.6194 - accuracy: 0.7679 - val_loss: 0.8042 - val_accuracy: 0.7255 - lr: 3.3610e-05\n",
      "Epoch 7/150\n",
      "574/574 [==============================] - 3s 6ms/step - loss: 0.6080 - accuracy: 0.7723 - val_loss: 0.7989 - val_accuracy: 0.7261 - lr: 1.6805e-05\n",
      "Epoch 8/150\n",
      "574/574 [==============================] - 2s 4ms/step - loss: 0.6164 - accuracy: 0.7709 - val_loss: 0.7977 - val_accuracy: 0.7284 - lr: 1.6805e-05\n",
      "Epoch 9/150\n",
      "574/574 [==============================] - 3s 6ms/step - loss: 0.5982 - accuracy: 0.7799 - val_loss: 0.7972 - val_accuracy: 0.7307 - lr: 1.6805e-05\n",
      "Epoch 10/150\n",
      "574/574 [==============================] - 3s 4ms/step - loss: 0.6024 - accuracy: 0.7746 - val_loss: 0.7978 - val_accuracy: 0.7337 - lr: 1.6805e-05\n",
      "Epoch 11/150\n",
      "574/574 [==============================] - 3s 6ms/step - loss: 0.5967 - accuracy: 0.7780 - val_loss: 0.7996 - val_accuracy: 0.7301 - lr: 1.6805e-05\n",
      "Epoch 12/150\n",
      "574/574 [==============================] - 3s 5ms/step - loss: 0.5902 - accuracy: 0.7796 - val_loss: 0.7969 - val_accuracy: 0.7291 - lr: 1.6805e-05\n",
      "Epoch 13/150\n",
      "574/574 [==============================] - 3s 6ms/step - loss: 0.5997 - accuracy: 0.7767 - val_loss: 0.7973 - val_accuracy: 0.7294 - lr: 1.6805e-05\n",
      "Epoch 14/150\n",
      "574/574 [==============================] - 3s 5ms/step - loss: 0.5915 - accuracy: 0.7836 - val_loss: 0.7955 - val_accuracy: 0.7297 - lr: 1.6805e-05\n",
      "Epoch 15/150\n",
      "574/574 [==============================] - 3s 5ms/step - loss: 0.5914 - accuracy: 0.7822 - val_loss: 0.7966 - val_accuracy: 0.7317 - lr: 1.6805e-05\n",
      "Epoch 16/150\n",
      "574/574 [==============================] - 3s 5ms/step - loss: 0.5915 - accuracy: 0.7819 - val_loss: 0.7956 - val_accuracy: 0.7324 - lr: 1.6805e-05\n",
      "Epoch 17/150\n",
      "574/574 [==============================] - 3s 5ms/step - loss: 0.5948 - accuracy: 0.7783 - val_loss: 0.7972 - val_accuracy: 0.7299 - lr: 1.6805e-05\n",
      "Epoch 18/150\n",
      "574/574 [==============================] - 3s 5ms/step - loss: 0.5893 - accuracy: 0.7818 - val_loss: 0.7939 - val_accuracy: 0.7330 - lr: 1.6805e-05\n",
      "Epoch 19/150\n",
      "574/574 [==============================] - 3s 5ms/step - loss: 0.5899 - accuracy: 0.7804 - val_loss: 0.7916 - val_accuracy: 0.7332 - lr: 1.6805e-05\n",
      "Epoch 20/150\n",
      "574/574 [==============================] - 3s 6ms/step - loss: 0.5842 - accuracy: 0.7886 - val_loss: 0.7940 - val_accuracy: 0.7283 - lr: 1.6805e-05\n",
      "Epoch 21/150\n",
      "574/574 [==============================] - 3s 5ms/step - loss: 0.5811 - accuracy: 0.7859 - val_loss: 0.7950 - val_accuracy: 0.7317 - lr: 1.6805e-05\n",
      "Epoch 22/150\n",
      "574/574 [==============================] - 3s 6ms/step - loss: 0.5926 - accuracy: 0.7793 - val_loss: 0.7948 - val_accuracy: 0.7330 - lr: 1.6805e-05\n",
      "Epoch 23/150\n",
      "574/574 [==============================] - 3s 4ms/step - loss: 0.5908 - accuracy: 0.7786 - val_loss: 0.7925 - val_accuracy: 0.7348 - lr: 1.6805e-05\n",
      "Epoch 24/150\n",
      "574/574 [==============================] - 3s 6ms/step - loss: 0.5831 - accuracy: 0.7846 - val_loss: 0.7915 - val_accuracy: 0.7337 - lr: 1.6805e-05\n",
      "Epoch 25/150\n",
      "574/574 [==============================] - 3s 5ms/step - loss: 0.5870 - accuracy: 0.7820 - val_loss: 0.7926 - val_accuracy: 0.7342 - lr: 8.4024e-06\n",
      "Epoch 26/150\n",
      "574/574 [==============================] - 3s 6ms/step - loss: 0.5816 - accuracy: 0.7834 - val_loss: 0.7919 - val_accuracy: 0.7324 - lr: 8.4024e-06\n",
      "Epoch 27/150\n",
      "574/574 [==============================] - 2s 4ms/step - loss: 0.5769 - accuracy: 0.7838 - val_loss: 0.7911 - val_accuracy: 0.7343 - lr: 8.4024e-06\n",
      "Epoch 28/150\n",
      "574/574 [==============================] - 3s 6ms/step - loss: 0.5831 - accuracy: 0.7862 - val_loss: 0.7917 - val_accuracy: 0.7327 - lr: 8.4024e-06\n",
      "Epoch 29/150\n",
      "574/574 [==============================] - 3s 4ms/step - loss: 0.5840 - accuracy: 0.7842 - val_loss: 0.7901 - val_accuracy: 0.7350 - lr: 8.4024e-06\n",
      "Epoch 30/150\n",
      "574/574 [==============================] - 4s 7ms/step - loss: 0.5775 - accuracy: 0.7884 - val_loss: 0.7912 - val_accuracy: 0.7345 - lr: 8.4024e-06\n",
      "Epoch 31/150\n",
      "574/574 [==============================] - 2s 4ms/step - loss: 0.5723 - accuracy: 0.7908 - val_loss: 0.7894 - val_accuracy: 0.7364 - lr: 8.4024e-06\n",
      "Epoch 32/150\n",
      "574/574 [==============================] - 4s 6ms/step - loss: 0.5819 - accuracy: 0.7845 - val_loss: 0.7887 - val_accuracy: 0.7343 - lr: 8.4024e-06\n",
      "Epoch 33/150\n",
      "574/574 [==============================] - 3s 5ms/step - loss: 0.5818 - accuracy: 0.7869 - val_loss: 0.7900 - val_accuracy: 0.7351 - lr: 8.4024e-06\n",
      "Epoch 34/150\n",
      "574/574 [==============================] - 4s 6ms/step - loss: 0.5778 - accuracy: 0.7864 - val_loss: 0.7878 - val_accuracy: 0.7368 - lr: 8.4024e-06\n",
      "Epoch 35/150\n",
      "574/574 [==============================] - 3s 5ms/step - loss: 0.5759 - accuracy: 0.7882 - val_loss: 0.7888 - val_accuracy: 0.7343 - lr: 8.4024e-06\n",
      "Epoch 36/150\n",
      "574/574 [==============================] - 3s 6ms/step - loss: 0.5748 - accuracy: 0.7867 - val_loss: 0.7869 - val_accuracy: 0.7371 - lr: 8.4024e-06\n",
      "Epoch 37/150\n",
      "574/574 [==============================] - 3s 5ms/step - loss: 0.5699 - accuracy: 0.7926 - val_loss: 0.7885 - val_accuracy: 0.7371 - lr: 8.4024e-06\n",
      "Epoch 38/150\n",
      "574/574 [==============================] - 3s 5ms/step - loss: 0.5752 - accuracy: 0.7889 - val_loss: 0.7875 - val_accuracy: 0.7366 - lr: 8.4024e-06\n",
      "Epoch 39/150\n",
      "574/574 [==============================] - 3s 5ms/step - loss: 0.5777 - accuracy: 0.7870 - val_loss: 0.7871 - val_accuracy: 0.7351 - lr: 8.4024e-06\n",
      "Epoch 40/150\n",
      "574/574 [==============================] - 3s 5ms/step - loss: 0.5708 - accuracy: 0.7897 - val_loss: 0.7843 - val_accuracy: 0.7373 - lr: 8.4024e-06\n",
      "Epoch 41/150\n",
      "574/574 [==============================] - 3s 6ms/step - loss: 0.5727 - accuracy: 0.7902 - val_loss: 0.7853 - val_accuracy: 0.7397 - lr: 8.4024e-06\n",
      "Epoch 42/150\n",
      "574/574 [==============================] - 3s 5ms/step - loss: 0.5687 - accuracy: 0.7923 - val_loss: 0.7845 - val_accuracy: 0.7407 - lr: 8.4024e-06\n",
      "Epoch 43/150\n",
      "574/574 [==============================] - 4s 6ms/step - loss: 0.5716 - accuracy: 0.7934 - val_loss: 0.7857 - val_accuracy: 0.7400 - lr: 8.4024e-06\n",
      "Epoch 44/150\n",
      "574/574 [==============================] - 3s 4ms/step - loss: 0.5759 - accuracy: 0.7871 - val_loss: 0.7848 - val_accuracy: 0.7391 - lr: 8.4024e-06\n",
      "Epoch 45/150\n",
      "574/574 [==============================] - 4s 6ms/step - loss: 0.5725 - accuracy: 0.7887 - val_loss: 0.7862 - val_accuracy: 0.7400 - lr: 8.4024e-06\n",
      "Epoch 46/150\n",
      "574/574 [==============================] - 3s 5ms/step - loss: 0.5690 - accuracy: 0.7952 - val_loss: 0.7829 - val_accuracy: 0.7422 - lr: 4.2012e-06\n",
      "Epoch 47/150\n",
      "574/574 [==============================] - 4s 7ms/step - loss: 0.5713 - accuracy: 0.7905 - val_loss: 0.7839 - val_accuracy: 0.7413 - lr: 4.2012e-06\n",
      "Epoch 48/150\n",
      "574/574 [==============================] - 3s 4ms/step - loss: 0.5668 - accuracy: 0.7930 - val_loss: 0.7833 - val_accuracy: 0.7435 - lr: 4.2012e-06\n",
      "Epoch 49/150\n",
      "574/574 [==============================] - 3s 6ms/step - loss: 0.5730 - accuracy: 0.7933 - val_loss: 0.7841 - val_accuracy: 0.7407 - lr: 4.2012e-06\n",
      "Epoch 50/150\n",
      "574/574 [==============================] - 2s 4ms/step - loss: 0.5680 - accuracy: 0.7906 - val_loss: 0.7826 - val_accuracy: 0.7440 - lr: 4.2012e-06\n",
      "Epoch 51/150\n"
     ]
    },
    {
     "name": "stdout",
     "output_type": "stream",
     "text": [
      "574/574 [==============================] - 3s 6ms/step - loss: 0.5604 - accuracy: 0.7981 - val_loss: 0.7821 - val_accuracy: 0.7441 - lr: 4.2012e-06\n",
      "Epoch 52/150\n",
      "574/574 [==============================] - 3s 5ms/step - loss: 0.5617 - accuracy: 0.7947 - val_loss: 0.7827 - val_accuracy: 0.7430 - lr: 4.2012e-06\n",
      "Epoch 53/150\n",
      "574/574 [==============================] - 3s 6ms/step - loss: 0.5659 - accuracy: 0.7899 - val_loss: 0.7849 - val_accuracy: 0.7423 - lr: 4.2012e-06\n",
      "Epoch 54/150\n",
      "574/574 [==============================] - 3s 5ms/step - loss: 0.5620 - accuracy: 0.7917 - val_loss: 0.7825 - val_accuracy: 0.7422 - lr: 4.2012e-06\n",
      "Epoch 55/150\n",
      "574/574 [==============================] - 3s 5ms/step - loss: 0.5652 - accuracy: 0.7905 - val_loss: 0.7814 - val_accuracy: 0.7433 - lr: 4.2012e-06\n",
      "Epoch 56/150\n",
      "574/574 [==============================] - 3s 5ms/step - loss: 0.5635 - accuracy: 0.7944 - val_loss: 0.7822 - val_accuracy: 0.7431 - lr: 4.2012e-06\n",
      "Epoch 57/150\n",
      "574/574 [==============================] - 3s 6ms/step - loss: 0.5629 - accuracy: 0.7956 - val_loss: 0.7814 - val_accuracy: 0.7444 - lr: 4.2012e-06\n",
      "Epoch 58/150\n",
      "574/574 [==============================] - 3s 5ms/step - loss: 0.5673 - accuracy: 0.7954 - val_loss: 0.7822 - val_accuracy: 0.7435 - lr: 4.2012e-06\n",
      "Epoch 59/150\n",
      "574/574 [==============================] - 3s 6ms/step - loss: 0.5587 - accuracy: 0.7920 - val_loss: 0.7833 - val_accuracy: 0.7428 - lr: 4.2012e-06\n",
      "Epoch 60/150\n",
      "574/574 [==============================] - 3s 5ms/step - loss: 0.5623 - accuracy: 0.7968 - val_loss: 0.7828 - val_accuracy: 0.7415 - lr: 4.2012e-06\n",
      "Epoch 61/150\n",
      "574/574 [==============================] - 3s 5ms/step - loss: 0.5641 - accuracy: 0.7933 - val_loss: 0.7825 - val_accuracy: 0.7435 - lr: 2.1006e-06\n",
      "Epoch 62/150\n",
      "574/574 [==============================] - 3s 6ms/step - loss: 0.5615 - accuracy: 0.7915 - val_loss: 0.7829 - val_accuracy: 0.7391 - lr: 2.1006e-06\n",
      "Epoch 63/150\n",
      "574/574 [==============================] - 3s 5ms/step - loss: 0.5682 - accuracy: 0.7917 - val_loss: 0.7826 - val_accuracy: 0.7435 - lr: 2.1006e-06\n",
      "Epoch 64/150\n",
      "574/574 [==============================] - 3s 6ms/step - loss: 0.5591 - accuracy: 0.7969 - val_loss: 0.7822 - val_accuracy: 0.7453 - lr: 2.1006e-06\n",
      "Epoch 65/150\n",
      "574/574 [==============================] - 3s 4ms/step - loss: 0.5569 - accuracy: 0.7995 - val_loss: 0.7844 - val_accuracy: 0.7440 - lr: 2.1006e-06\n",
      "Epoch 66/150\n",
      "574/574 [==============================] - 4s 6ms/step - loss: 0.5559 - accuracy: 0.7983 - val_loss: 0.7828 - val_accuracy: 0.7448 - lr: 1.0503e-06\n",
      "Epoch 67/150\n",
      "574/574 [==============================] - 3s 5ms/step - loss: 0.5639 - accuracy: 0.7943 - val_loss: 0.7831 - val_accuracy: 0.7431 - lr: 1.0503e-06\n"
     ]
    }
   ],
   "source": [
    "tuner.search(X_train, y_train, epochs=150, validation_data=(X_test, y_test), \n",
    "             callbacks=[early_stopping, lr_scheduler])\n",
    "\n",
    "best_model = tuner.get_best_models(num_models=1)[0]\n",
    "\n",
    "history = best_model.fit(X_train, y_train, epochs=150, batch_size=32, validation_data=(X_test, y_test), \n",
    "                         callbacks=[early_stopping, lr_scheduler])"
   ]
  },
  {
   "cell_type": "code",
   "execution_count": 15,
   "id": "e8a93d00",
   "metadata": {},
   "outputs": [
    {
     "name": "stdout",
     "output_type": "stream",
     "text": [
      "192/192 [==============================] - 0s 2ms/step\n",
      "              precision    recall  f1-score   support\n",
      "\n",
      "           0       0.74      0.72      0.73      2074\n",
      "           1       0.75      0.73      0.74      2055\n",
      "           2       0.75      0.78      0.76      1991\n",
      "\n",
      "    accuracy                           0.74      6120\n",
      "   macro avg       0.74      0.74      0.74      6120\n",
      "weighted avg       0.74      0.74      0.74      6120\n",
      "\n"
     ]
    }
   ],
   "source": [
    "y_pred = best_model.predict(X_test)\n",
    "y_pred_classes = np.argmax(y_pred, axis=1)\n",
    "y_true_classes = np.argmax(y_test, axis=1)\n",
    "\n",
    "print(classification_report(y_true_classes, y_pred_classes))"
   ]
  },
  {
   "cell_type": "code",
   "execution_count": 16,
   "id": "d49ffa53",
   "metadata": {},
   "outputs": [
    {
     "data": {
      "image/png": "[encoded data removed]",
      "text/plain": [
       "<Figure size 1000x700 with 2 Axes>"
      ]
     },
     "metadata": {},
     "output_type": "display_data"
    }
   ],
   "source": [
    "conf_matrix = confusion_matrix(y_true_classes, y_pred_classes)\n",
    "plt.figure(figsize=(10, 7))\n",
    "sns.heatmap(conf_matrix, annot=True, fmt='d', cmap='Blues', xticklabels=['Draw', 'Home Win', 'Away Win'],\n",
    "            yticklabels=['Draw', 'Home Win', 'Away Win'])\n",
    "plt.xlabel('Predicted')\n",
    "plt.ylabel('Actual')\n",
    "plt.title('Confusion Matrix')\n",
    "plt.show()"
   ]
  },
  {
   "cell_type": "code",
   "execution_count": 17,
   "id": "e1d98085",
   "metadata": {},
   "outputs": [],
   "source": [
    "def predict_match(model, home_team_id, away_team_id, attendance, home_team_points, away_team_points,\n",
    "                  home_attack_value, away_attack_value, home_midfield_value, away_midfield_value,\n",
    "                  home_defender_value, away_defender_value, home_goalkeeper_value, away_goalkeeper_value,\n",
    "                  home_total_market_value, away_total_market_value, home_power_score, away_power_score):\n",
    "\n",
    "    match_features = np.array([home_team_id, away_team_id, attendance, home_team_points, away_team_points,\n",
    "                               home_attack_value, away_attack_value, home_midfield_value, away_midfield_value,\n",
    "                               home_defender_value, away_defender_value, home_goalkeeper_value, away_goalkeeper_value,\n",
    "                               home_total_market_value, away_total_market_value, home_power_score, away_power_score]).reshape(1, -1)\n",
    "    \n",
    "    match_features = scaler.transform(match_features)\n",
    "    \n",
    "    prediction = model.predict(match_features)\n",
    "    \n",
    "    return prediction"
   ]
  },
  {
   "cell_type": "code",
   "execution_count": 20,
   "id": "78f893d3",
   "metadata": {},
   "outputs": [
    {
     "name": "stdout",
     "output_type": "stream",
     "text": [
      "1/1 [==============================] - 0s 20ms/step\n",
      "Prediction: [[1.2857946e-04 3.0732795e-04 9.9956411e-01]]\n"
     ]
    },
    {
     "name": "stderr",
     "output_type": "stream",
     "text": [
      "C:\\Users\\Akif\\anaconda3\\lib\\site-packages\\sklearn\\base.py:439: UserWarning: X does not have valid feature names, but RobustScaler was fitted with feature names\n",
      "  warnings.warn(\n"
     ]
    }
   ],
   "source": [
    "home_team_id = 162\n",
    "away_team_id = 583\n",
    "attendance = -0.799500\n",
    "home_team_points = 0.623097\n",
    "away_team_points = 1.064934\n",
    "home_attack_value = 0.186794\n",
    "away_attack_value = 5.482963\n",
    "home_midfield_value = -0.697554\n",
    "away_midfield_value = 0.571892\n",
    "home_defender_value = 0.511353\n",
    "away_defender_value = 0.906488\n",
    "home_goalkeeper_value = -0.172559\n",
    "away_goalkeeper_value = 0.164418\n",
    "home_total_market_value = 0.198449\n",
    "away_total_market_value = 3.077390\n",
    "home_power_score = 0.152487\n",
    "away_power_score = 2.597862\n",
    "\n",
    "prediction = predict_match(best_model, home_team_id, away_team_id, attendance, home_team_points, away_team_points,\n",
    "                           home_attack_value, away_attack_value, home_midfield_value, away_midfield_value,\n",
    "                           home_defender_value, away_defender_value, home_goalkeeper_value, away_goalkeeper_value,\n",
    "                           home_total_market_value, away_total_market_value, home_power_score, away_power_score)\n",
    "\n",
    "print(f'Prediction: {prediction}')"
   ]
  },
  {
   "cell_type": "code",
   "execution_count": 19,
   "id": "ebb2413f",
   "metadata": {},
   "outputs": [
    {
     "name": "stdout",
     "output_type": "stream",
     "text": [
      "[[1496  280  298]\n",
      " [ 323 1498  234]\n",
      " [ 213  216 1562]]\n"
     ]
    }
   ],
   "source": [
    "print(conf_matrix)"
   ]
  },
  {
   "cell_type": "markdown",
   "id": "d662f30b",
   "metadata": {},
   "source": [
    "Trial 15 Complete [00h 16m 57s]\n",
    "val_accuracy: 0.49569716056187946\n",
    "\n",
    "Best val_accuracy So Far: 0.7215686241785685\n",
    "Total elapsed time: 2d 02h 11m 05s\n",
    "\n",
    "Search: Running Trial #16\n",
    "\n",
    "Value             |Best Value So Far |Hyperparameter\n",
    "512               |512               |units\n",
    "0.2               |0.2               |dropout_rate\n",
    "192               |256               |units_2\n",
    "0.0018076         |0.00013444        |learning_rate"
   ]
  }
 ],
 "metadata": {
  "kernelspec": {
   "display_name": "Python 3 (ipykernel)",
   "language": "python",
   "name": "python3"
  },
  "language_info": {
   "codemirror_mode": {
    "name": "ipython",
    "version": 3
   },
   "file_extension": ".py",
   "mimetype": "text/x-python",
   "name": "python",
   "nbconvert_exporter": "python",
   "pygments_lexer": "ipython3",
   "version": "3.10.9"
  }
 },
 "nbformat": 4,
 "nbformat_minor": 5
}
