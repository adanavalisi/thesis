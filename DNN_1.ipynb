{
 "cells": [
  {
   "cell_type": "code",
   "execution_count": 1,
   "id": "cf1e0b9b",
   "metadata": {},
   "outputs": [
    {
     "name": "stdout",
     "output_type": "stream",
     "text": [
      "WARNING:tensorflow:From C:\\Users\\Akif\\anaconda3\\lib\\site-packages\\keras\\src\\losses.py:2976: The name tf.losses.sparse_softmax_cross_entropy is deprecated. Please use tf.compat.v1.losses.sparse_softmax_cross_entropy instead.\n",
      "\n"
     ]
    }
   ],
   "source": [
    "import numpy as np\n",
    "import pandas as pd\n",
    "import tensorflow as tf\n",
    "from tensorflow.keras.models import Sequential\n",
    "from tensorflow.keras.layers import Dense, Dropout\n",
    "from tensorflow.keras.losses import CategoricalCrossentropy\n",
    "from tensorflow.keras.optimizers import Adam\n",
    "from tensorflow.keras.utils import to_categorical\n",
    "\n",
    "from sklearn.model_selection import train_test_split"
   ]
  },
  {
   "cell_type": "code",
   "execution_count": 2,
   "id": "75b61fc5",
   "metadata": {},
   "outputs": [],
   "source": [
    "data = pd.read_csv(\"C:/Users/Akif/Desktop/football/data.csv\")"
   ]
  },
  {
   "cell_type": "code",
   "execution_count": 3,
   "id": "059760c7",
   "metadata": {},
   "outputs": [],
   "source": [
    "target_columns = ['result']\n",
    "feature_columns = ['own_goals', 'own_position', 'opponent_goals', 'opponent_position', 'home_total_market_value', 'home_key_players', 'away_total_market_value', 'away_key_players', 'home_position_to_goal', 'away_position_to_goal', 'home_win_h2h', 'home_home_win', 'away_away_win', 'home_last_5_game_win', 'away_last_5_game_win']\n",
    "X = data[feature_columns].values\n",
    "y = data[target_columns].values"
   ]
  },
  {
   "cell_type": "code",
   "execution_count": 4,
   "id": "e958fb7f",
   "metadata": {},
   "outputs": [
    {
     "name": "stdout",
     "output_type": "stream",
     "text": [
      "Training set size: 211\n",
      "Validation set size: 53\n",
      "Testing set size: 66\n"
     ]
    }
   ],
   "source": [
    "X_train, X_test, y_train, y_test = train_test_split(X, y, test_size=0.2, random_state=42)\n",
    "X_train, X_val, y_train, y_val = train_test_split(X_train, y_train, test_size=0.2, random_state=42)\n",
    "\n",
    "print(\"Training set size:\", len(X_train))\n",
    "print(\"Validation set size:\", len(X_val))\n",
    "print(\"Testing set size:\", len(X_test))"
   ]
  },
  {
   "cell_type": "code",
   "execution_count": 5,
   "id": "68a6a540",
   "metadata": {},
   "outputs": [
    {
     "name": "stdout",
     "output_type": "stream",
     "text": [
      "WARNING:tensorflow:From C:\\Users\\Akif\\anaconda3\\lib\\site-packages\\keras\\src\\backend.py:873: The name tf.get_default_graph is deprecated. Please use tf.compat.v1.get_default_graph instead.\n",
      "\n",
      "WARNING:tensorflow:From C:\\Users\\Akif\\anaconda3\\lib\\site-packages\\keras\\src\\optimizers\\__init__.py:309: The name tf.train.Optimizer is deprecated. Please use tf.compat.v1.train.Optimizer instead.\n",
      "\n",
      "Epoch 1/30\n",
      "WARNING:tensorflow:From C:\\Users\\Akif\\anaconda3\\lib\\site-packages\\keras\\src\\utils\\tf_utils.py:492: The name tf.ragged.RaggedTensorValue is deprecated. Please use tf.compat.v1.ragged.RaggedTensorValue instead.\n",
      "\n",
      "WARNING:tensorflow:From C:\\Users\\Akif\\anaconda3\\lib\\site-packages\\keras\\src\\engine\\base_layer_utils.py:384: The name tf.executing_eagerly_outside_functions is deprecated. Please use tf.compat.v1.executing_eagerly_outside_functions instead.\n",
      "\n",
      "7/7 [==============================] - 5s 154ms/step - loss: 4645217.0000 - accuracy: 0.3555 - val_loss: 1643984.6250 - val_accuracy: 0.6038\n",
      "Epoch 2/30\n",
      "7/7 [==============================] - 0s 26ms/step - loss: 3211873.7500 - accuracy: 0.4028 - val_loss: 813564.8125 - val_accuracy: 0.6038\n",
      "Epoch 3/30\n",
      "7/7 [==============================] - 0s 28ms/step - loss: 2976474.0000 - accuracy: 0.3886 - val_loss: 593413.4375 - val_accuracy: 0.6226\n",
      "Epoch 4/30\n",
      "7/7 [==============================] - 0s 28ms/step - loss: 2477233.2500 - accuracy: 0.3697 - val_loss: 1036931.6250 - val_accuracy: 0.6038\n",
      "Epoch 5/30\n",
      "7/7 [==============================] - 0s 25ms/step - loss: 2125441.7500 - accuracy: 0.4360 - val_loss: 1167072.3750 - val_accuracy: 0.5849\n",
      "Epoch 6/30\n",
      "7/7 [==============================] - 0s 36ms/step - loss: 1760354.6250 - accuracy: 0.4645 - val_loss: 855517.8125 - val_accuracy: 0.5849\n",
      "Epoch 7/30\n",
      "7/7 [==============================] - 0s 28ms/step - loss: 1915435.8750 - accuracy: 0.3791 - val_loss: 684415.8750 - val_accuracy: 0.6604\n",
      "Epoch 8/30\n",
      "7/7 [==============================] - 0s 30ms/step - loss: 1407415.2500 - accuracy: 0.4360 - val_loss: 739276.0625 - val_accuracy: 0.5660\n",
      "Epoch 9/30\n",
      "7/7 [==============================] - 0s 30ms/step - loss: 1483593.0000 - accuracy: 0.3886 - val_loss: 558077.5625 - val_accuracy: 0.6038\n",
      "Epoch 10/30\n",
      "7/7 [==============================] - 0s 32ms/step - loss: 1184052.7500 - accuracy: 0.4313 - val_loss: 432016.8438 - val_accuracy: 0.6226\n",
      "Epoch 11/30\n",
      "7/7 [==============================] - 0s 30ms/step - loss: 976912.3125 - accuracy: 0.4313 - val_loss: 439374.9688 - val_accuracy: 0.5849\n",
      "Epoch 12/30\n",
      "7/7 [==============================] - 0s 29ms/step - loss: 871554.1875 - accuracy: 0.4360 - val_loss: 353878.7188 - val_accuracy: 0.6038\n",
      "Epoch 13/30\n",
      "7/7 [==============================] - 0s 31ms/step - loss: 652381.1250 - accuracy: 0.3886 - val_loss: 250094.1094 - val_accuracy: 0.6038\n",
      "Epoch 14/30\n",
      "7/7 [==============================] - 0s 34ms/step - loss: 531405.8125 - accuracy: 0.3934 - val_loss: 198291.5469 - val_accuracy: 0.5283\n",
      "Epoch 15/30\n",
      "7/7 [==============================] - 0s 28ms/step - loss: 591201.0000 - accuracy: 0.3270 - val_loss: 193026.6719 - val_accuracy: 0.5283\n",
      "Epoch 16/30\n",
      "7/7 [==============================] - 0s 27ms/step - loss: 427269.7188 - accuracy: 0.4455 - val_loss: 131046.4609 - val_accuracy: 0.5849\n",
      "Epoch 17/30\n",
      "7/7 [==============================] - 0s 30ms/step - loss: 269513.8438 - accuracy: 0.4550 - val_loss: 71425.9219 - val_accuracy: 0.4717\n",
      "Epoch 18/30\n",
      "7/7 [==============================] - 0s 29ms/step - loss: 220769.2344 - accuracy: 0.3697 - val_loss: 76840.0000 - val_accuracy: 0.5283\n",
      "Epoch 19/30\n",
      "7/7 [==============================] - 0s 33ms/step - loss: 163466.2344 - accuracy: 0.3649 - val_loss: 48856.3203 - val_accuracy: 0.5094\n",
      "Epoch 20/30\n",
      "7/7 [==============================] - 0s 31ms/step - loss: 137003.6719 - accuracy: 0.3791 - val_loss: 45890.5703 - val_accuracy: 0.5660\n",
      "Epoch 21/30\n",
      "7/7 [==============================] - 0s 30ms/step - loss: 74396.7266 - accuracy: 0.4123 - val_loss: 60682.2773 - val_accuracy: 0.5472\n",
      "Epoch 22/30\n",
      "7/7 [==============================] - 0s 28ms/step - loss: 97575.3906 - accuracy: 0.4313 - val_loss: 27391.7461 - val_accuracy: 0.4340\n",
      "Epoch 23/30\n",
      "7/7 [==============================] - 0s 28ms/step - loss: 57640.7930 - accuracy: 0.3555 - val_loss: 12170.0918 - val_accuracy: 0.3962\n",
      "Epoch 24/30\n",
      "7/7 [==============================] - 0s 30ms/step - loss: 26229.5859 - accuracy: 0.4265 - val_loss: 7325.5171 - val_accuracy: 0.5094\n",
      "Epoch 25/30\n",
      "7/7 [==============================] - 0s 29ms/step - loss: 24721.9590 - accuracy: 0.4171 - val_loss: 1267.7623 - val_accuracy: 0.4528\n",
      "Epoch 26/30\n",
      "7/7 [==============================] - 0s 30ms/step - loss: 3761.7573 - accuracy: 0.4028 - val_loss: 0.9856 - val_accuracy: 0.3396\n",
      "Epoch 27/30\n",
      "7/7 [==============================] - 0s 25ms/step - loss: 1465.2993 - accuracy: 0.3270 - val_loss: 1.0950 - val_accuracy: 0.2453\n",
      "Epoch 28/30\n",
      "7/7 [==============================] - 0s 28ms/step - loss: 239.4812 - accuracy: 0.3081 - val_loss: 1.0943 - val_accuracy: 0.2453\n",
      "Epoch 29/30\n",
      "7/7 [==============================] - 0s 28ms/step - loss: 1.1005 - accuracy: 0.3033 - val_loss: 1.0931 - val_accuracy: 0.2453\n",
      "Epoch 30/30\n",
      "7/7 [==============================] - 0s 33ms/step - loss: 1.0945 - accuracy: 0.3081 - val_loss: 1.0918 - val_accuracy: 0.2453\n",
      "3/3 [==============================] - 0s 12ms/step - loss: 1.0775 - accuracy: 0.3030\n",
      "Test Loss: 1.0775318145751953\n",
      "Test Accuracy: 0.3030303120613098\n"
     ]
    }
   ],
   "source": [
    "model = Sequential([\n",
    "    Dense(64, activation='relu', input_shape=(X_train.shape[1],)),\n",
    "    Dense(32, activation='relu'),\n",
    "    Dropout(0.2),\n",
    "    Dense(3, activation='softmax')\n",
    "])\n",
    "\n",
    "y_train = to_categorical(y_train)\n",
    "y_test = to_categorical(y_test)\n",
    "y_val = to_categorical(y_val)\n",
    "\n",
    "model.compile(optimizer='adam', loss='categorical_crossentropy', metrics=['accuracy'])\n",
    "\n",
    "history = model.fit(X_train, y_train, epochs=30, batch_size=32, validation_data=(X_val, y_val))\n",
    "\n",
    "loss, accuracy = model.evaluate(X_test, y_test)\n",
    "print(\"Test Loss:\", loss)\n",
    "print(\"Test Accuracy:\", accuracy)"
   ]
  },
  {
   "cell_type": "code",
   "execution_count": null,
   "id": "b0acc969",
   "metadata": {},
   "outputs": [],
   "source": []
  }
 ],
 "metadata": {
  "kernelspec": {
   "display_name": "Python 3 (ipykernel)",
   "language": "python",
   "name": "python3"
  },
  "language_info": {
   "codemirror_mode": {
    "name": "ipython",
    "version": 3
   },
   "file_extension": ".py",
   "mimetype": "text/x-python",
   "name": "python",
   "nbconvert_exporter": "python",
   "pygments_lexer": "ipython3",
   "version": "3.10.9"
  }
 },
 "nbformat": 4,
 "nbformat_minor": 5
}
