{
 "cells": [
  {
   "cell_type": "code",
   "execution_count": 1,
   "id": "8b4b99fd",
   "metadata": {},
   "outputs": [],
   "source": [
    "import csv\n",
    "import numpy as np\n",
    "import pandas as pd\n",
    "import matplotlib.pyplot as plt\n",
    "import seaborn as sns"
   ]
  },
  {
   "cell_type": "code",
   "execution_count": 2,
   "id": "81c1add2",
   "metadata": {},
   "outputs": [],
   "source": [
    "data_path = \"D:/AGH/AI&DA/third_semester/thesis/datas/football\"\n",
    "\n",
    "data_appearances = pd.read_csv(data_path + '/appearances.csv')\n",
    "data_club_games = pd.read_csv(data_path + '/club_games.csv')\n",
    "data_competitions = pd.read_csv(data_path + '/competitions.csv')\n",
    "data_clubs = pd.read_csv(data_path + '/clubs.csv')\n",
    "data_game_events = pd.read_csv(data_path + '/game_events.csv')\n",
    "data_games = pd.read_csv(data_path + '/games.csv')\n",
    "data_player_valuations = pd.read_csv(data_path + '/player_valuations.csv')\n",
    "data_players = pd.read_csv(data_path + '/players.csv')"
   ]
  },
  {
   "cell_type": "markdown",
   "id": "727b0195",
   "metadata": {},
   "source": [
    "## TR League - 2023"
   ]
  },
  {
   "cell_type": "code",
   "execution_count": 3,
   "id": "416e255b",
   "metadata": {},
   "outputs": [],
   "source": [
    "def create_tr(year):\n",
    "    data_games['date'] = pd.to_datetime(data_games['date'])\n",
    "    TR1_games = data_games[(data_games['date'] > f'{year}-08-01') & (data_games['competition_id'] == 'TR1')]\n",
    "    TR1_games['date'] = pd.to_datetime(TR1_games['date'])\n",
    "    TR1_games = TR1_games.sort_values(by='date', ascending=True)\n",
    "    TR1_games_bydate = TR1_games.reset_index(drop=True)\n",
    "    TR1_games_bydate = TR1_games_bydate.sort_values(by='home_club_id', ascending=False)\n",
    "    \n",
    "    return TR1_games_bydate"
   ]
  },
  {
   "cell_type": "code",
   "execution_count": 4,
   "id": "2d009f4d",
   "metadata": {},
   "outputs": [],
   "source": [
    "def find_name(TR1_games_2023_bydate, i):   \n",
    "    home_club_name = TR1_games_2023_bydate.loc[i, 'home_club_name']\n",
    "    home_club_id = TR1_games_2023_bydate.loc[i, 'home_club_id']\n",
    "\n",
    "    away_club_name = TR1_games_2023_bydate.loc[i, 'away_club_name']\n",
    "    away_club_id = TR1_games_2023_bydate.loc[i, 'away_club_id']\n",
    "    \n",
    "    game_id =  TR1_games_2023_bydate.loc[i, 'game_id']\n",
    "    date = TR1_games_2023_bydate.loc[i, 'date']\n",
    "    \n",
    "    return home_club_name, home_club_id, away_club_name, away_club_id, game_id, date"
   ]
  },
  {
   "cell_type": "markdown",
   "id": "5eb7b5ae",
   "metadata": {},
   "source": [
    "## Important Players"
   ]
  },
  {
   "cell_type": "code",
   "execution_count": 5,
   "id": "a271d98f",
   "metadata": {},
   "outputs": [],
   "source": [
    "def home_important_players(home_club_name, home_club_id,game_id, date, home_match):\n",
    "    \n",
    "    home_players = data_appearances[(data_appearances['player_club_id'] == home_club_id) & (data_appearances['date'] > '2023-08-01') & (data_appearances['game_id'] == game_id)]\n",
    "    home_players_unique = home_players.drop_duplicates(subset='player_name', keep='last')\n",
    "    home_players_sorted = home_players.sort_values(by=['goals', 'assists'], ascending=[False, False])\n",
    "    top_home_players = home_players_sorted.head(28)\n",
    "    home_players_values = data_players[(data_players['current_club_id'] == home_club_id) & (data_players['last_season'] == 2023)]\n",
    "    home_players_values = home_players_values.sort_values(by='market_value_in_eur', ascending=False)\n",
    "    home_important_players = home_players_values.head(5)['player_id']\n",
    "    home_important_players.index = range(1, 6)\n",
    "    home_important_players = home_important_players.rename_axis(\"player_id\")\n",
    "    top_home_players_ids = top_home_players['player_id']\n",
    "    matching_players = home_important_players[home_important_players.isin(top_home_players_ids)]\n",
    "    matching_players_count = len(matching_players)\n",
    "    home_key_players = matching_players_count/len(home_important_players)\n",
    "    home_total_market_value = home_players_values['market_value_in_eur'].sum()\n",
    "    \n",
    "    home_match['home_total_market_value'] = home_total_market_value\n",
    "    home_match['home_key_players'] = home_key_players\n",
    "    \n",
    "    return home_match"
   ]
  },
  {
   "cell_type": "code",
   "execution_count": 6,
   "id": "eb816572",
   "metadata": {},
   "outputs": [],
   "source": [
    "def away_important_players(away_club_name, away_club_id,game_id, date, home_match):\n",
    "    \n",
    "    away_players = data_appearances[(data_appearances['player_club_id'] == away_club_id) & (data_appearances['date'] > '2023-08-01') & (data_appearances['game_id'] == game_id)]\n",
    "    away_players_unique = away_players.drop_duplicates(subset='player_name', keep='last')\n",
    "    away_players_sorted = away_players.sort_values(by=['goals', 'assists'], ascending=[False, False])\n",
    "    top_away_players = away_players_sorted.head(28)\n",
    "    away_players_values = data_players[(data_players['current_club_id'] == away_club_id) & (data_players['last_season'] == 2023)]\n",
    "    away_players_values = away_players_values.sort_values(by='market_value_in_eur', ascending=False)\n",
    "    away_important_players = away_players_values.head(5)['player_id']\n",
    "    away_important_players.index = range(1, 6)\n",
    "    away_important_players = away_important_players.rename_axis(\"player_id\")\n",
    "    top_away_players_ids = top_away_players['player_id']\n",
    "    matching_players = away_important_players[away_important_players.isin(top_away_players_ids)]\n",
    "    matching_players_count = len(matching_players)\n",
    "    away_key_players = matching_players_count/len(away_important_players)\n",
    "    away_total_market_value = away_players_values['market_value_in_eur'].sum()\n",
    "    \n",
    "    home_match['away_total_market_value'] = away_total_market_value\n",
    "    home_match['away_key_players'] = away_key_players\n",
    "    \n",
    "    return home_match"
   ]
  },
  {
   "cell_type": "markdown",
   "id": "12d38f9e",
   "metadata": {},
   "source": [
    "## Result Column"
   ]
  },
  {
   "cell_type": "code",
   "execution_count": 7,
   "id": "2d34f07f",
   "metadata": {},
   "outputs": [],
   "source": [
    "def match(data_club_games, game_id, home_club_id):\n",
    "    home_match = data_club_games[((data_club_games['game_id']) == game_id) & ((data_club_games['club_id']) == home_club_id)]\n",
    "\n",
    "    home_match = home_match.drop('own_manager_name', axis=1)\n",
    "    home_match = home_match.drop('opponent_manager_name', axis=1)\n",
    "\n",
    "    home_match.loc[home_match['own_goals'] == home_match['opponent_goals'], 'is_win'] = 2\n",
    "    \n",
    "    home_match['away_result'] = np.select(\n",
    "    [home_match['is_win'] == 2, home_match['is_win'] == 1, home_match['is_win'] == 0],\n",
    "    [0, 1, 2],\n",
    "    default=np.nan\n",
    "    )\n",
    "\n",
    "    home_match = home_match.rename(columns={'is_win': 'home_result'})\n",
    "    \n",
    "    return home_match"
   ]
  },
  {
   "cell_type": "markdown",
   "id": "e22da62f",
   "metadata": {},
   "source": [
    "## Goal Positions"
   ]
  },
  {
   "cell_type": "code",
   "execution_count": 8,
   "id": "5feaa426",
   "metadata": {},
   "outputs": [],
   "source": [
    "def post_toGoal(home_match):\n",
    "    home_position_to_goal = home_match['own_goals'] / home_match['own_position']\n",
    "    away_position_to_goal = home_match['opponent_goals'] / home_match['opponent_position']\n",
    "    \n",
    "    home_match['home_position_to_goal'] = home_position_to_goal\n",
    "    home_match['away_position_to_goal'] = away_position_to_goal\n",
    "    \n",
    "    return home_match"
   ]
  },
  {
   "cell_type": "markdown",
   "id": "584a50f1",
   "metadata": {},
   "source": [
    "## Last Games"
   ]
  },
  {
   "cell_type": "code",
   "execution_count": 9,
   "id": "57cdd76e",
   "metadata": {},
   "outputs": [],
   "source": [
    "def last_games(data_games,home_club_name,away_club_name, home_club_id, away_club_id, date, home_match):\n",
    "    last_matches = data_games[(data_games['home_club_name'] == home_club_name) & (data_games['away_club_name'] == away_club_name) | (data_games['home_club_name'] == away_club_name) & (data_games['away_club_name'] == home_club_name)]\n",
    "\n",
    "    last_matches['result'] = last_matches.apply(lambda row: 'Home Win' if row['home_club_name'] == home_club_name and row['home_club_goals'] > row['away_club_goals'] else\n",
    "                                            'Away Win' if row['home_club_name'] == away_club_name and row['home_club_goals'] > row['away_club_goals'] else\n",
    "                                            'Home Win' if row['away_club_name'] == home_club_name and row['away_club_goals'] > row['home_club_goals'] else\n",
    "                                            'Away Win' if row['away_club_name'] == away_club_name and row['away_club_goals'] > row['home_club_goals'] else\n",
    "                                            'Draw', axis=1)\n",
    "\n",
    "\n",
    "    result_counts = last_matches['result'].value_counts()\n",
    "\n",
    "\n",
    "    home_win_count = result_counts.get('Home Win',0)\n",
    "    away_win_count = result_counts.get('Away Win',0)\n",
    "    draw_count = result_counts.get('Draw',0)\n",
    "\n",
    "    home_win_h2h = home_win_count/5\n",
    "    away_win_h2h = away_win_count/5\n",
    "    draw_h2h = draw_count/5\n",
    "\n",
    "    last_matches['result_detailed'] = last_matches.apply(lambda row: 'Home Home Win' if row['home_club_name'] == home_club_name and row['home_club_goals'] > row['away_club_goals'] else\n",
    "                                            'Away Home Win' if row['home_club_name'] == away_club_name and row['home_club_goals'] > row['away_club_goals'] else\n",
    "                                            'Home Away Win' if row['away_club_name'] == home_club_name and row['away_club_goals'] > row['home_club_goals'] else\n",
    "                                            'Away Away Win' if row['away_club_name'] == away_club_name and row['away_club_goals'] > row['home_club_goals'] else\n",
    "                                            'Draw', axis=1)\n",
    "\n",
    "\n",
    "    result_counts_detailed = last_matches['result_detailed'].value_counts()\n",
    "\n",
    "\n",
    "    home_home_win_count = result_counts.get('Home Home Win',0)\n",
    "    away_away_win_count = result_counts.get('Home Away Win',0)\n",
    "    draw_count = result_counts.get('Home Win',0)\n",
    "\n",
    "    home_win_h2h_d = home_home_win_count/5\n",
    "    away_win_h2h_d = away_away_win_count/5\n",
    "    draw_h2h_d = draw_count/5\n",
    "\n",
    "    games_by_date = data_games.sort_values(by='date', ascending = False)\n",
    "\n",
    "    home_home_last_5_games = games_by_date[(games_by_date['home_club_id'] == home_club_id) & (games_by_date['date'] < date)].head(5)\n",
    "\n",
    "    home_home_last_5_games['result'] = home_home_last_5_games.apply(lambda row: 'Home Win' if row['home_club_name'] == home_club_name and row['home_club_goals'] > row['away_club_goals'] else\n",
    "                                            'Away Win' if row['home_club_name'] != home_club_name and row['home_club_goals'] > row['away_club_goals'] else\n",
    "                                            'Home Win' if row['away_club_name'] == home_club_name and row['away_club_goals'] > row['home_club_goals'] else\n",
    "                                            'Away Win' if row['away_club_name'] != home_club_name and row['away_club_goals'] > row['home_club_goals'] else\n",
    "                                            'Draw', axis=1)\n",
    "\n",
    "\n",
    "    result_counts = home_home_last_5_games['result'].value_counts()\n",
    "\n",
    "    home_home_win_count = result_counts.get('Home Win',0)\n",
    "    away_win_count = result_counts.get('Away Win',0)\n",
    "    draw_count = result_counts.get('Draw Win',0)\n",
    "\n",
    "    h_h_win = home_home_win_count/5\n",
    "\n",
    "    away_away_last_5_games = games_by_date[(games_by_date['away_club_id'] == away_club_id) & (games_by_date['date'] < date)].head(5)\n",
    "\n",
    "    away_away_last_5_games['result'] = away_away_last_5_games.apply(lambda row: 'Home Win' if row['home_club_name'] != away_club_name and row['home_club_goals'] > row['away_club_goals'] else\n",
    "                                            'Away Win' if row['home_club_name'] == away_club_name and row['home_club_goals'] > row['away_club_goals'] else\n",
    "                                            'Home Win' if row['away_club_name'] != away_club_name and row['away_club_goals'] > row['home_club_goals'] else\n",
    "                                            'Away Win' if row['away_club_name'] == away_club_name and row['away_club_goals'] > row['home_club_goals'] else\n",
    "                                            'Draw', axis=1)\n",
    "\n",
    "\n",
    "    result_counts = away_away_last_5_games['result'].value_counts()\n",
    "\n",
    "    home_win_count = result_counts.get('Home Win',0)\n",
    "    away_away_win_count = result_counts.get('Away Win',0)\n",
    "    draw_count = result_counts.get('Draw',0)\n",
    "\n",
    "    a_a_win = away_away_win_count/5\n",
    "\n",
    "    home_last_5_games = games_by_date[((games_by_date['home_club_id'] == home_club_id) | (games_by_date['away_club_id'] == home_club_id))& (games_by_date['date'] < date)].head(5)\n",
    "\n",
    "    home_last_5_games['result'] = home_last_5_games.apply(lambda row: f'{home_club_name} Win' if row['home_club_name'] == home_club_name and row['home_club_goals'] > row['away_club_goals'] else\n",
    "                                            'Other Win' if row['home_club_name'] != home_club_name and row['home_club_goals'] > row['away_club_goals'] else\n",
    "                                            f'{home_club_name} Win' if row['away_club_name'] == home_club_name and row['away_club_goals'] > row['home_club_goals'] else\n",
    "                                            'Other Win' if row['away_club_name'] != home_club_name and row['away_club_goals'] > row['home_club_goals'] else\n",
    "                                            'Draw', axis=1)\n",
    "\n",
    "\n",
    "    result_counts = home_last_5_games['result'].value_counts()\n",
    "\n",
    "    home_win_count = result_counts.get(f'{home_club_name} Win',0)\n",
    "    home_lose_count = result_counts.get('Other Win', 0)\n",
    "    home_draw_count = result_counts.get('Draw', 0)\n",
    "\n",
    "    home_last_5_game_lose = home_lose_count/5\n",
    "    home_last_5_game_win = home_win_count/5\n",
    "    home_last_5_game_draw = home_draw_count/5\n",
    "\n",
    "\n",
    "    away_last_5_games = games_by_date[((games_by_date['home_club_id'] == home_club_id) | (games_by_date['away_club_id'] == away_club_id))& (games_by_date['date'] < date)].head(5)\n",
    "\n",
    "    away_last_5_games['result'] = away_last_5_games.apply(lambda row: f'{away_club_name} Win' if row['home_club_name'] == away_club_name and row['home_club_goals'] > row['away_club_goals'] else\n",
    "                                            'Other Win' if row['home_club_name'] != away_club_name and row['home_club_goals'] > row['away_club_goals'] else\n",
    "                                            f'{away_club_name} Win' if row['away_club_name'] == away_club_name and row['away_club_goals'] > row['home_club_goals'] else\n",
    "                                            'Other Win' if row['away_club_name'] != away_club_name and row['away_club_goals'] > row['home_club_goals'] else\n",
    "                                            'Draw', axis=1)\n",
    "\n",
    "\n",
    "    result_counts = away_last_5_games['result'].value_counts()\n",
    "\n",
    "    away_win_count = result_counts.get(f'{away_club_name} Win',0)\n",
    "    away_lose_count = result_counts.get('Other Win',0)\n",
    "    away_draw_count = result_counts.get('Draw',0)\n",
    "\n",
    "    away_last_5_game_lose = away_lose_count/5\n",
    "    away_last_5_game_win = away_win_count/5\n",
    "    away_last_5_game_draw = away_draw_count/5\n",
    "    \n",
    "    home_match['home_win_h2h'] = home_win_h2h\n",
    "    home_match['away_win_h2h'] = away_win_h2h\n",
    "    home_match['draw_h2h'] = draw_h2h\n",
    "\n",
    "    home_match['home_win_h2h_d'] = home_win_h2h_d\n",
    "    home_match['away_win_h2h_d'] = away_win_h2h_d\n",
    "    home_match['draw_h2h_d'] = draw_h2h_d\n",
    "\n",
    "    home_match['home_home_win'] = h_h_win\n",
    "    home_match['away_away_win'] = a_a_win\n",
    "\n",
    "    home_match['home_last_5_game_win'] = home_last_5_game_win\n",
    "    home_match['home_last_5_game_lose'] = home_last_5_game_lose\n",
    "    home_match['home_last_5_game_draw'] = home_last_5_game_draw\n",
    "\n",
    "    home_match['away_last_5_game_win'] = away_last_5_game_win\n",
    "    home_match['away_last_5_game_lose'] = away_last_5_game_lose\n",
    "    home_match['away_last_5_game_draw'] = away_last_5_game_draw\n",
    "    \n",
    "    return home_match"
   ]
  },
  {
   "cell_type": "markdown",
   "id": "b31eb87a",
   "metadata": {},
   "source": [
    "## Final DataFrame"
   ]
  },
  {
   "cell_type": "code",
   "execution_count": 10,
   "id": "982c7c9f",
   "metadata": {},
   "outputs": [],
   "source": [
    "def create_df(home_match):\n",
    "    \n",
    "    statistics = ['game_id',\t'club_id',\t'own_goals',\t'own_position',\t'opponent_id',\t'opponent_goals',\t'opponent_position', 'home_result',\t'away_result', 'home_total_market_value', 'away_total_market_value',\n",
    "          'home_key_players', 'away_key_players', 'home_win_h2h', 'away_win_h2h', 'draw_h2h', 'home_win_h2h_d', 'away_win_h2h_d', 'draw_h2h_d', 'home_home_win', 'away_away_win', 'home_last_5_game_win',\n",
    "          'home_last_5_game_lose', 'home_last_5_game_draw', 'away_last_5_game_win', 'away_last_5_game_lose', 'away_last_5_game_draw']\n",
    "\n",
    "    all_match_datas = pd.DataFrame(columns=statistics)\n",
    "    all_match_datas = all_match_datas.append(home_match)\n",
    "    all_match_datas.drop(\"hosting\", axis=1)\n",
    "    \n",
    "    return all_match_datas"
   ]
  },
  {
   "cell_type": "code",
   "execution_count": 13,
   "id": "092291cc",
   "metadata": {},
   "outputs": [],
   "source": [
    "def main():  \n",
    "    years = [2020,2021,2022,2023]\n",
    "    for year in years:\n",
    "        all_match_datas = []\n",
    "        TR1_games_bydate = create_tr(year)\n",
    "        match_number = len(TR1_games_bydate)\n",
    "\n",
    "        for i in range(match_number):\n",
    "            match_info = find_name(TR1_games_bydate, i)\n",
    "            home_club_name, home_club_id, away_club_name, away_club_id, game_id, date = match_info\n",
    "\n",
    "            home_match = match(data_club_games, game_id, home_club_id)\n",
    "            print(home_match.head())\n",
    "            home_match = home_important_players(home_club_name, home_club_id, game_id, date, home_match)\n",
    "            print(home_match.head())\n",
    "            home_match = away_important_players(away_club_name, away_club_id, game_id, date, home_match)\n",
    "            print(home_match.head())\n",
    "            home_match = post_toGoal(home_match)\n",
    "            print(home_match.head())\n",
    "            home_match = last_games(data_games, home_club_name, away_club_name, home_club_id, away_club_id, date, home_match)\n",
    "\n",
    "            all_match_datas.append(home_match)  \n",
    "\n",
    "        data_final = pd.concat(all_match_datas, ignore_index=True) \n",
    "        data_final.drop(\"hosting\", axis=1, inplace=True)\n",
    "    \n",
    "    data_final.to_csv(r\"C:/Users/Akif/Desktop/football/data_final.csv\", index=False)"
   ]
  },
  {
   "cell_type": "code",
   "execution_count": 14,
   "id": "d2d49331",
   "metadata": {},
   "outputs": [
    {
     "name": "stderr",
     "output_type": "stream",
     "text": [
      "C:\\Users\\Akif\\AppData\\Local\\Temp\\ipykernel_20640\\61887270.py:4: SettingWithCopyWarning: \n",
      "A value is trying to be set on a copy of a slice from a DataFrame.\n",
      "Try using .loc[row_indexer,col_indexer] = value instead\n",
      "\n",
      "See the caveats in the documentation: https://pandas.pydata.org/pandas-docs/stable/user_guide/indexing.html#returning-a-view-versus-a-copy\n",
      "  TR1_games['date'] = pd.to_datetime(TR1_games['date'])\n"
     ]
    },
    {
     "name": "stdout",
     "output_type": "stream",
     "text": [
      "       game_id  club_id  own_goals  own_position  opponent_id  opponent_goals  \\\n",
      "16086  3426662      126          1          12.0           36               2   \n",
      "\n",
      "       opponent_position hosting  home_result  away_result  \n",
      "16086                8.0    Home            0          2.0  \n",
      "       game_id  club_id  own_goals  own_position  opponent_id  opponent_goals  \\\n",
      "16086  3426662      126          1          12.0           36               2   \n",
      "\n",
      "       opponent_position hosting  home_result  away_result  \\\n",
      "16086                8.0    Home            0          2.0   \n",
      "\n",
      "       home_total_market_value  home_key_players  \n",
      "16086               31275000.0               0.0  \n",
      "       game_id  club_id  own_goals  own_position  opponent_id  opponent_goals  \\\n",
      "16086  3426662      126          1          12.0           36               2   \n",
      "\n",
      "       opponent_position hosting  home_result  away_result  \\\n",
      "16086                8.0    Home            0          2.0   \n",
      "\n",
      "       home_total_market_value  home_key_players  away_total_market_value  \\\n",
      "16086               31275000.0               0.0              201450000.0   \n",
      "\n",
      "       away_key_players  \n",
      "16086               0.0  \n",
      "       game_id  club_id  own_goals  own_position  opponent_id  opponent_goals  \\\n",
      "16086  3426662      126          1          12.0           36               2   \n",
      "\n",
      "       opponent_position hosting  home_result  away_result  \\\n",
      "16086                8.0    Home            0          2.0   \n",
      "\n",
      "       home_total_market_value  home_key_players  away_total_market_value  \\\n",
      "16086               31275000.0               0.0              201450000.0   \n",
      "\n",
      "       away_key_players  home_position_to_goal  away_position_to_goal  \n",
      "16086               0.0               0.083333                   0.25  \n"
     ]
    },
    {
     "name": "stderr",
     "output_type": "stream",
     "text": [
      "C:\\Users\\Akif\\AppData\\Local\\Temp\\ipykernel_20640\\3311403278.py:4: SettingWithCopyWarning: \n",
      "A value is trying to be set on a copy of a slice from a DataFrame.\n",
      "Try using .loc[row_indexer,col_indexer] = value instead\n",
      "\n",
      "See the caveats in the documentation: https://pandas.pydata.org/pandas-docs/stable/user_guide/indexing.html#returning-a-view-versus-a-copy\n",
      "  last_matches['result'] = last_matches.apply(lambda row: 'Home Win' if row['home_club_name'] == home_club_name and row['home_club_goals'] > row['away_club_goals'] else\n",
      "C:\\Users\\Akif\\AppData\\Local\\Temp\\ipykernel_20640\\3311403278.py:22: SettingWithCopyWarning: \n",
      "A value is trying to be set on a copy of a slice from a DataFrame.\n",
      "Try using .loc[row_indexer,col_indexer] = value instead\n",
      "\n",
      "See the caveats in the documentation: https://pandas.pydata.org/pandas-docs/stable/user_guide/indexing.html#returning-a-view-versus-a-copy\n",
      "  last_matches['result_detailed'] = last_matches.apply(lambda row: 'Home Home Win' if row['home_club_name'] == home_club_name and row['home_club_goals'] > row['away_club_goals'] else\n"
     ]
    },
    {
     "name": "stdout",
     "output_type": "stream",
     "text": [
      "       game_id  club_id  own_goals  own_position  opponent_id  opponent_goals  \\\n",
      "40082  3426660     2381          0          18.0        11282               2   \n",
      "\n",
      "       opponent_position hosting  home_result  away_result  \n",
      "40082                5.0    Home            0          2.0  \n",
      "       game_id  club_id  own_goals  own_position  opponent_id  opponent_goals  \\\n",
      "40082  3426660     2381          0          18.0        11282               2   \n",
      "\n",
      "       opponent_position hosting  home_result  away_result  \\\n",
      "40082                5.0    Home            0          2.0   \n",
      "\n",
      "       home_total_market_value  home_key_players  \n",
      "40082               20125000.0               0.0  \n",
      "       game_id  club_id  own_goals  own_position  opponent_id  opponent_goals  \\\n",
      "40082  3426660     2381          0          18.0        11282               2   \n",
      "\n",
      "       opponent_position hosting  home_result  away_result  \\\n",
      "40082                5.0    Home            0          2.0   \n",
      "\n",
      "       home_total_market_value  home_key_players  away_total_market_value  \\\n",
      "40082               20125000.0               0.0               25125000.0   \n",
      "\n",
      "       away_key_players  \n",
      "40082               0.0  \n",
      "       game_id  club_id  own_goals  own_position  opponent_id  opponent_goals  \\\n",
      "40082  3426660     2381          0          18.0        11282               2   \n",
      "\n",
      "       opponent_position hosting  home_result  away_result  \\\n",
      "40082                5.0    Home            0          2.0   \n",
      "\n",
      "       home_total_market_value  home_key_players  away_total_market_value  \\\n",
      "40082               20125000.0               0.0               25125000.0   \n",
      "\n",
      "       away_key_players  home_position_to_goal  away_position_to_goal  \n",
      "40082               0.0                    0.0                    0.4  \n"
     ]
    },
    {
     "name": "stderr",
     "output_type": "stream",
     "text": [
      "C:\\Users\\Akif\\AppData\\Local\\Temp\\ipykernel_20640\\3311403278.py:4: SettingWithCopyWarning: \n",
      "A value is trying to be set on a copy of a slice from a DataFrame.\n",
      "Try using .loc[row_indexer,col_indexer] = value instead\n",
      "\n",
      "See the caveats in the documentation: https://pandas.pydata.org/pandas-docs/stable/user_guide/indexing.html#returning-a-view-versus-a-copy\n",
      "  last_matches['result'] = last_matches.apply(lambda row: 'Home Win' if row['home_club_name'] == home_club_name and row['home_club_goals'] > row['away_club_goals'] else\n",
      "C:\\Users\\Akif\\AppData\\Local\\Temp\\ipykernel_20640\\3311403278.py:22: SettingWithCopyWarning: \n",
      "A value is trying to be set on a copy of a slice from a DataFrame.\n",
      "Try using .loc[row_indexer,col_indexer] = value instead\n",
      "\n",
      "See the caveats in the documentation: https://pandas.pydata.org/pandas-docs/stable/user_guide/indexing.html#returning-a-view-versus-a-copy\n",
      "  last_matches['result_detailed'] = last_matches.apply(lambda row: 'Home Home Win' if row['home_club_name'] == home_club_name and row['home_club_goals'] > row['away_club_goals'] else\n"
     ]
    },
    {
     "name": "stdout",
     "output_type": "stream",
     "text": [
      "       game_id  club_id  own_goals  own_position  opponent_id  opponent_goals  \\\n",
      "48424  3426666     1467          5           1.0          833               1   \n",
      "\n",
      "       opponent_position hosting  home_result  away_result  \n",
      "48424               21.0    Home            1          1.0  \n"
     ]
    },
    {
     "ename": "ValueError",
     "evalue": "Length mismatch: Expected axis has 0 elements, new values have 5 elements",
     "output_type": "error",
     "traceback": [
      "\u001b[1;31m---------------------------------------------------------------------------\u001b[0m",
      "\u001b[1;31mValueError\u001b[0m                                Traceback (most recent call last)",
      "Cell \u001b[1;32mIn[14], line 2\u001b[0m\n\u001b[0;32m      1\u001b[0m \u001b[38;5;28;01mif\u001b[39;00m \u001b[38;5;18m__name__\u001b[39m \u001b[38;5;241m==\u001b[39m \u001b[38;5;124m\"\u001b[39m\u001b[38;5;124m__main__\u001b[39m\u001b[38;5;124m\"\u001b[39m:\n\u001b[1;32m----> 2\u001b[0m     \u001b[43mmain\u001b[49m\u001b[43m(\u001b[49m\u001b[43m)\u001b[49m\n",
      "Cell \u001b[1;32mIn[13], line 14\u001b[0m, in \u001b[0;36mmain\u001b[1;34m()\u001b[0m\n\u001b[0;32m     12\u001b[0m home_match \u001b[38;5;241m=\u001b[39m match(data_club_games, game_id, home_club_id)\n\u001b[0;32m     13\u001b[0m \u001b[38;5;28mprint\u001b[39m(home_match\u001b[38;5;241m.\u001b[39mhead())\n\u001b[1;32m---> 14\u001b[0m home_match \u001b[38;5;241m=\u001b[39m \u001b[43mhome_important_players\u001b[49m\u001b[43m(\u001b[49m\u001b[43mhome_club_name\u001b[49m\u001b[43m,\u001b[49m\u001b[43m \u001b[49m\u001b[43mhome_club_id\u001b[49m\u001b[43m,\u001b[49m\u001b[43m \u001b[49m\u001b[43mgame_id\u001b[49m\u001b[43m,\u001b[49m\u001b[43m \u001b[49m\u001b[43mdate\u001b[49m\u001b[43m,\u001b[49m\u001b[43m \u001b[49m\u001b[43mhome_match\u001b[49m\u001b[43m)\u001b[49m\n\u001b[0;32m     15\u001b[0m \u001b[38;5;28mprint\u001b[39m(home_match\u001b[38;5;241m.\u001b[39mhead())\n\u001b[0;32m     16\u001b[0m home_match \u001b[38;5;241m=\u001b[39m away_important_players(away_club_name, away_club_id, game_id, date, home_match)\n",
      "Cell \u001b[1;32mIn[5], line 10\u001b[0m, in \u001b[0;36mhome_important_players\u001b[1;34m(home_club_name, home_club_id, game_id, date, home_match)\u001b[0m\n\u001b[0;32m      8\u001b[0m home_players_values \u001b[38;5;241m=\u001b[39m home_players_values\u001b[38;5;241m.\u001b[39msort_values(by\u001b[38;5;241m=\u001b[39m\u001b[38;5;124m'\u001b[39m\u001b[38;5;124mmarket_value_in_eur\u001b[39m\u001b[38;5;124m'\u001b[39m, ascending\u001b[38;5;241m=\u001b[39m\u001b[38;5;28;01mFalse\u001b[39;00m)\n\u001b[0;32m      9\u001b[0m home_important_players \u001b[38;5;241m=\u001b[39m home_players_values\u001b[38;5;241m.\u001b[39mhead(\u001b[38;5;241m5\u001b[39m)[\u001b[38;5;124m'\u001b[39m\u001b[38;5;124mplayer_id\u001b[39m\u001b[38;5;124m'\u001b[39m]\n\u001b[1;32m---> 10\u001b[0m home_important_players\u001b[38;5;241m.\u001b[39mindex \u001b[38;5;241m=\u001b[39m \u001b[38;5;28mrange\u001b[39m(\u001b[38;5;241m1\u001b[39m, \u001b[38;5;241m6\u001b[39m)\n\u001b[0;32m     11\u001b[0m home_important_players \u001b[38;5;241m=\u001b[39m home_important_players\u001b[38;5;241m.\u001b[39mrename_axis(\u001b[38;5;124m\"\u001b[39m\u001b[38;5;124mplayer_id\u001b[39m\u001b[38;5;124m\"\u001b[39m)\n\u001b[0;32m     12\u001b[0m top_home_players_ids \u001b[38;5;241m=\u001b[39m top_home_players[\u001b[38;5;124m'\u001b[39m\u001b[38;5;124mplayer_id\u001b[39m\u001b[38;5;124m'\u001b[39m]\n",
      "File \u001b[1;32m~\\anaconda3\\lib\\site-packages\\pandas\\core\\generic.py:5915\u001b[0m, in \u001b[0;36mNDFrame.__setattr__\u001b[1;34m(self, name, value)\u001b[0m\n\u001b[0;32m   5913\u001b[0m \u001b[38;5;28;01mtry\u001b[39;00m:\n\u001b[0;32m   5914\u001b[0m     \u001b[38;5;28mobject\u001b[39m\u001b[38;5;241m.\u001b[39m\u001b[38;5;21m__getattribute__\u001b[39m(\u001b[38;5;28mself\u001b[39m, name)\n\u001b[1;32m-> 5915\u001b[0m     \u001b[38;5;28;01mreturn\u001b[39;00m \u001b[38;5;28;43mobject\u001b[39;49m\u001b[38;5;241;43m.\u001b[39;49m\u001b[38;5;21;43m__setattr__\u001b[39;49m\u001b[43m(\u001b[49m\u001b[38;5;28;43mself\u001b[39;49m\u001b[43m,\u001b[49m\u001b[43m \u001b[49m\u001b[43mname\u001b[49m\u001b[43m,\u001b[49m\u001b[43m \u001b[49m\u001b[43mvalue\u001b[49m\u001b[43m)\u001b[49m\n\u001b[0;32m   5916\u001b[0m \u001b[38;5;28;01mexcept\u001b[39;00m \u001b[38;5;167;01mAttributeError\u001b[39;00m:\n\u001b[0;32m   5917\u001b[0m     \u001b[38;5;28;01mpass\u001b[39;00m\n",
      "File \u001b[1;32m~\\anaconda3\\lib\\site-packages\\pandas\\_libs\\properties.pyx:69\u001b[0m, in \u001b[0;36mpandas._libs.properties.AxisProperty.__set__\u001b[1;34m()\u001b[0m\n",
      "File \u001b[1;32m~\\anaconda3\\lib\\site-packages\\pandas\\core\\series.py:593\u001b[0m, in \u001b[0;36mSeries._set_axis\u001b[1;34m(self, axis, labels)\u001b[0m\n\u001b[0;32m    590\u001b[0m             \u001b[38;5;28;01mpass\u001b[39;00m\n\u001b[0;32m    592\u001b[0m \u001b[38;5;66;03m# The ensure_index call above ensures we have an Index object\u001b[39;00m\n\u001b[1;32m--> 593\u001b[0m \u001b[38;5;28;43mself\u001b[39;49m\u001b[38;5;241;43m.\u001b[39;49m\u001b[43m_mgr\u001b[49m\u001b[38;5;241;43m.\u001b[39;49m\u001b[43mset_axis\u001b[49m\u001b[43m(\u001b[49m\u001b[43maxis\u001b[49m\u001b[43m,\u001b[49m\u001b[43m \u001b[49m\u001b[43mlabels\u001b[49m\u001b[43m)\u001b[49m\n",
      "File \u001b[1;32m~\\anaconda3\\lib\\site-packages\\pandas\\core\\internals\\managers.py:230\u001b[0m, in \u001b[0;36mBaseBlockManager.set_axis\u001b[1;34m(self, axis, new_labels)\u001b[0m\n\u001b[0;32m    228\u001b[0m \u001b[38;5;28;01mdef\u001b[39;00m \u001b[38;5;21mset_axis\u001b[39m(\u001b[38;5;28mself\u001b[39m, axis: \u001b[38;5;28mint\u001b[39m, new_labels: Index) \u001b[38;5;241m-\u001b[39m\u001b[38;5;241m>\u001b[39m \u001b[38;5;28;01mNone\u001b[39;00m:\n\u001b[0;32m    229\u001b[0m     \u001b[38;5;66;03m# Caller is responsible for ensuring we have an Index object.\u001b[39;00m\n\u001b[1;32m--> 230\u001b[0m     \u001b[38;5;28;43mself\u001b[39;49m\u001b[38;5;241;43m.\u001b[39;49m\u001b[43m_validate_set_axis\u001b[49m\u001b[43m(\u001b[49m\u001b[43maxis\u001b[49m\u001b[43m,\u001b[49m\u001b[43m \u001b[49m\u001b[43mnew_labels\u001b[49m\u001b[43m)\u001b[49m\n\u001b[0;32m    231\u001b[0m     \u001b[38;5;28mself\u001b[39m\u001b[38;5;241m.\u001b[39maxes[axis] \u001b[38;5;241m=\u001b[39m new_labels\n",
      "File \u001b[1;32m~\\anaconda3\\lib\\site-packages\\pandas\\core\\internals\\base.py:70\u001b[0m, in \u001b[0;36mDataManager._validate_set_axis\u001b[1;34m(self, axis, new_labels)\u001b[0m\n\u001b[0;32m     67\u001b[0m     \u001b[38;5;28;01mpass\u001b[39;00m\n\u001b[0;32m     69\u001b[0m \u001b[38;5;28;01melif\u001b[39;00m new_len \u001b[38;5;241m!=\u001b[39m old_len:\n\u001b[1;32m---> 70\u001b[0m     \u001b[38;5;28;01mraise\u001b[39;00m \u001b[38;5;167;01mValueError\u001b[39;00m(\n\u001b[0;32m     71\u001b[0m         \u001b[38;5;124mf\u001b[39m\u001b[38;5;124m\"\u001b[39m\u001b[38;5;124mLength mismatch: Expected axis has \u001b[39m\u001b[38;5;132;01m{\u001b[39;00mold_len\u001b[38;5;132;01m}\u001b[39;00m\u001b[38;5;124m elements, new \u001b[39m\u001b[38;5;124m\"\u001b[39m\n\u001b[0;32m     72\u001b[0m         \u001b[38;5;124mf\u001b[39m\u001b[38;5;124m\"\u001b[39m\u001b[38;5;124mvalues have \u001b[39m\u001b[38;5;132;01m{\u001b[39;00mnew_len\u001b[38;5;132;01m}\u001b[39;00m\u001b[38;5;124m elements\u001b[39m\u001b[38;5;124m\"\u001b[39m\n\u001b[0;32m     73\u001b[0m     )\n",
      "\u001b[1;31mValueError\u001b[0m: Length mismatch: Expected axis has 0 elements, new values have 5 elements"
     ]
    }
   ],
   "source": [
    "if __name__ == \"__main__\":\n",
    "    main()"
   ]
  },
  {
   "cell_type": "markdown",
   "id": "082164d7",
   "metadata": {},
   "source": [
    "## Correalation Matrix"
   ]
  },
  {
   "cell_type": "code",
   "execution_count": null,
   "id": "36d7f8e3",
   "metadata": {},
   "outputs": [],
   "source": [
    "data_final = pd.read_csv(\"C:/Users/Akif/Desktop/football/data_final.csv\")\n",
    "data_final = data_final.rename(columns={'away_result': 'result'})\n",
    "data_final['result'] = data_final['result'].astype(int)\n",
    "print(data_final.shape)\n",
    "data_final = data_final.drop(columns=['game_id', 'home_result', 'club_id', 'opponent_id', 'away_last_5_game_lose', 'away_last_5_game_draw', 'home_last_5_game_lose', 'home_last_5_game_draw', 'away_win_h2h', 'draw_h2h', 'home_win_h2h_d', 'away_win_h2h_d', 'draw_h2h_d' ])\n",
    "print(data_final.shape)"
   ]
  },
  {
   "cell_type": "code",
   "execution_count": null,
   "id": "9a12670b",
   "metadata": {},
   "outputs": [],
   "source": [
    "correlation_data_final = data_final.corr()\n",
    "\n",
    "axis_corr = sns.heatmap(\n",
    "correlation_data_final,\n",
    "vmin=-1, vmax=1, center=0,\n",
    "cmap=sns.diverging_palette(50, 500, n=500),\n",
    "square=True\n",
    ")\n",
    "\n",
    "plt.show()"
   ]
  },
  {
   "cell_type": "code",
   "execution_count": null,
   "id": "400d2204",
   "metadata": {},
   "outputs": [],
   "source": [
    "specific_columns = ['result']\n",
    "\n",
    "other_columns = [col for col in data_final.columns if col not in specific_columns]\n",
    "\n",
    "correlation_matrix = data_final[specific_columns + other_columns].corr()\n",
    "\n",
    "correlation_with_specific_columns = correlation_matrix[specific_columns]\n",
    "\n",
    "print(correlation_with_specific_columns)"
   ]
  },
  {
   "cell_type": "code",
   "execution_count": null,
   "id": "37398e36",
   "metadata": {},
   "outputs": [],
   "source": [
    "data_final.to_csv(r\"C:/Users/Akif/Desktop/football/data.csv\", index=False)"
   ]
  },
  {
   "cell_type": "code",
   "execution_count": null,
   "id": "1620b638",
   "metadata": {},
   "outputs": [],
   "source": [
    "data_final.head()"
   ]
  },
  {
   "cell_type": "code",
   "execution_count": null,
   "id": "df22cd92",
   "metadata": {},
   "outputs": [],
   "source": []
  }
 ],
 "metadata": {
  "kernelspec": {
   "display_name": "Python 3 (ipykernel)",
   "language": "python",
   "name": "python3"
  },
  "language_info": {
   "codemirror_mode": {
    "name": "ipython",
    "version": 3
   },
   "file_extension": ".py",
   "mimetype": "text/x-python",
   "name": "python",
   "nbconvert_exporter": "python",
   "pygments_lexer": "ipython3",
   "version": "3.10.9"
  }
 },
 "nbformat": 4,
 "nbformat_minor": 5
}
