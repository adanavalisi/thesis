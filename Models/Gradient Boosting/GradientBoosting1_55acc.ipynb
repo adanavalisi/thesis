{
 "cells": [
  {
   "cell_type": "code",
   "execution_count": 27,
   "id": "a67acfe9",
   "metadata": {},
   "outputs": [],
   "source": [
    "import pandas as pd\n",
    "import numpy as np\n",
    "\n",
    "from sklearn.preprocessing import LabelEncoder\n",
    "from sklearn.model_selection import train_test_split\n",
    "from sklearn.ensemble import GradientBoostingClassifier\n",
    "from sklearn.metrics import accuracy_score, classification_report, confusion_matrix\n",
    "import seaborn as sns\n",
    "import matplotlib.pyplot as plt"
   ]
  },
  {
   "cell_type": "code",
   "execution_count": 8,
   "id": "8c4bdc33",
   "metadata": {},
   "outputs": [],
   "source": [
    "file_path = \"C:/Users/Akif/Desktop/football/rankingv5v2.csv\"\n",
    "df = pd.read_csv(file_path)"
   ]
  },
  {
   "cell_type": "code",
   "execution_count": 10,
   "id": "2d18fd5d",
   "metadata": {},
   "outputs": [],
   "source": [
    "df = df.dropna()"
   ]
  },
  {
   "cell_type": "code",
   "execution_count": 11,
   "id": "2e3e489d",
   "metadata": {},
   "outputs": [],
   "source": [
    "le = LabelEncoder()\n",
    "\n",
    "categorical_cols = ['home_club_id', 'away_club_id', 'home_club_formation', 'away_club_formation', 'home_club_name', 'away_club_name']\n",
    "\n",
    "for col in categorical_cols:\n",
    "    df[col] = le.fit_transform(df[col])\n"
   ]
  },
  {
   "cell_type": "code",
   "execution_count": 12,
   "id": "dfb066d7",
   "metadata": {},
   "outputs": [],
   "source": [
    "features = ['home_club_id', 'away_club_id', 'attendance', 'home_team_points', 'away_team_points',\n",
    "            'home_attack_value', 'home_attack_count', 'away_attack_value', 'away_attack_count',\n",
    "            'home_midfield_value', 'home_midfield_count', 'away_midfield_value', 'away_midfield_count',\n",
    "            'home_defender_value', 'home_defender_count', 'away_defender_value', 'away_defender_count',\n",
    "            'home_goalkeeper_value', 'home_goalkeeper_count', 'away_goalkeeper_value', 'away_goalkeeper_count',\n",
    "            'home_total_market_value', 'away_total_market_value', 'home_power_score', 'away_power_score']\n",
    "\n",
    "X = df[features]\n",
    "y = df['result']\n",
    "\n",
    "y = le.fit_transform(y)"
   ]
  },
  {
   "cell_type": "code",
   "execution_count": 14,
   "id": "fa1210ea",
   "metadata": {},
   "outputs": [],
   "source": [
    "X_train, X_test, y_train, y_test = train_test_split(X, y, test_size=0.2, random_state=42)"
   ]
  },
  {
   "cell_type": "code",
   "execution_count": 16,
   "id": "0ec17bcc",
   "metadata": {},
   "outputs": [
    {
     "data": {
      "text/html": [
       "<style>#sk-container-id-1 {color: black;background-color: white;}#sk-container-id-1 pre{padding: 0;}#sk-container-id-1 div.sk-toggleable {background-color: white;}#sk-container-id-1 label.sk-toggleable__label {cursor: pointer;display: block;width: 100%;margin-bottom: 0;padding: 0.3em;box-sizing: border-box;text-align: center;}#sk-container-id-1 label.sk-toggleable__label-arrow:before {content: \"▸\";float: left;margin-right: 0.25em;color: #696969;}#sk-container-id-1 label.sk-toggleable__label-arrow:hover:before {color: black;}#sk-container-id-1 div.sk-estimator:hover label.sk-toggleable__label-arrow:before {color: black;}#sk-container-id-1 div.sk-toggleable__content {max-height: 0;max-width: 0;overflow: hidden;text-align: left;background-color: #f0f8ff;}#sk-container-id-1 div.sk-toggleable__content pre {margin: 0.2em;color: black;border-radius: 0.25em;background-color: #f0f8ff;}#sk-container-id-1 input.sk-toggleable__control:checked~div.sk-toggleable__content {max-height: 200px;max-width: 100%;overflow: auto;}#sk-container-id-1 input.sk-toggleable__control:checked~label.sk-toggleable__label-arrow:before {content: \"▾\";}#sk-container-id-1 div.sk-estimator input.sk-toggleable__control:checked~label.sk-toggleable__label {background-color: #d4ebff;}#sk-container-id-1 div.sk-label input.sk-toggleable__control:checked~label.sk-toggleable__label {background-color: #d4ebff;}#sk-container-id-1 input.sk-hidden--visually {border: 0;clip: rect(1px 1px 1px 1px);clip: rect(1px, 1px, 1px, 1px);height: 1px;margin: -1px;overflow: hidden;padding: 0;position: absolute;width: 1px;}#sk-container-id-1 div.sk-estimator {font-family: monospace;background-color: #f0f8ff;border: 1px dotted black;border-radius: 0.25em;box-sizing: border-box;margin-bottom: 0.5em;}#sk-container-id-1 div.sk-estimator:hover {background-color: #d4ebff;}#sk-container-id-1 div.sk-parallel-item::after {content: \"\";width: 100%;border-bottom: 1px solid gray;flex-grow: 1;}#sk-container-id-1 div.sk-label:hover label.sk-toggleable__label {background-color: #d4ebff;}#sk-container-id-1 div.sk-serial::before {content: \"\";position: absolute;border-left: 1px solid gray;box-sizing: border-box;top: 0;bottom: 0;left: 50%;z-index: 0;}#sk-container-id-1 div.sk-serial {display: flex;flex-direction: column;align-items: center;background-color: white;padding-right: 0.2em;padding-left: 0.2em;position: relative;}#sk-container-id-1 div.sk-item {position: relative;z-index: 1;}#sk-container-id-1 div.sk-parallel {display: flex;align-items: stretch;justify-content: center;background-color: white;position: relative;}#sk-container-id-1 div.sk-item::before, #sk-container-id-1 div.sk-parallel-item::before {content: \"\";position: absolute;border-left: 1px solid gray;box-sizing: border-box;top: 0;bottom: 0;left: 50%;z-index: -1;}#sk-container-id-1 div.sk-parallel-item {display: flex;flex-direction: column;z-index: 1;position: relative;background-color: white;}#sk-container-id-1 div.sk-parallel-item:first-child::after {align-self: flex-end;width: 50%;}#sk-container-id-1 div.sk-parallel-item:last-child::after {align-self: flex-start;width: 50%;}#sk-container-id-1 div.sk-parallel-item:only-child::after {width: 0;}#sk-container-id-1 div.sk-dashed-wrapped {border: 1px dashed gray;margin: 0 0.4em 0.5em 0.4em;box-sizing: border-box;padding-bottom: 0.4em;background-color: white;}#sk-container-id-1 div.sk-label label {font-family: monospace;font-weight: bold;display: inline-block;line-height: 1.2em;}#sk-container-id-1 div.sk-label-container {text-align: center;}#sk-container-id-1 div.sk-container {/* jupyter's `normalize.less` sets `[hidden] { display: none; }` but bootstrap.min.css set `[hidden] { display: none !important; }` so we also need the `!important` here to be able to override the default hidden behavior on the sphinx rendered scikit-learn.org. See: https://github.com/scikit-learn/scikit-learn/issues/21755 */display: inline-block !important;position: relative;}#sk-container-id-1 div.sk-text-repr-fallback {display: none;}</style><div id=\"sk-container-id-1\" class=\"sk-top-container\"><div class=\"sk-text-repr-fallback\"><pre>GradientBoostingClassifier(random_state=42)</pre><b>In a Jupyter environment, please rerun this cell to show the HTML representation or trust the notebook. <br />On GitHub, the HTML representation is unable to render, please try loading this page with nbviewer.org.</b></div><div class=\"sk-container\" hidden><div class=\"sk-item\"><div class=\"sk-estimator sk-toggleable\"><input class=\"sk-toggleable__control sk-hidden--visually\" id=\"sk-estimator-id-1\" type=\"checkbox\" checked><label for=\"sk-estimator-id-1\" class=\"sk-toggleable__label sk-toggleable__label-arrow\">GradientBoostingClassifier</label><div class=\"sk-toggleable__content\"><pre>GradientBoostingClassifier(random_state=42)</pre></div></div></div></div></div>"
      ],
      "text/plain": [
       "GradientBoostingClassifier(random_state=42)"
      ]
     },
     "execution_count": 16,
     "metadata": {},
     "output_type": "execute_result"
    }
   ],
   "source": [
    "model = GradientBoostingClassifier(n_estimators=100, learning_rate=0.1, max_depth=3, random_state=42)\n",
    "\n",
    "model.fit(X_train, y_train)"
   ]
  },
  {
   "cell_type": "code",
   "execution_count": 18,
   "id": "af1f5ecb",
   "metadata": {},
   "outputs": [
    {
     "name": "stdout",
     "output_type": "stream",
     "text": [
      "Accuracy: 0.55\n"
     ]
    }
   ],
   "source": [
    "y_pred = model.predict(X_test)\n",
    "\n",
    "accuracy = accuracy_score(y_test, y_pred)\n",
    "print(f\"Accuracy: {accuracy:.2f}\")"
   ]
  },
  {
   "cell_type": "code",
   "execution_count": 19,
   "id": "20331474",
   "metadata": {},
   "outputs": [
    {
     "name": "stdout",
     "output_type": "stream",
     "text": [
      "              precision    recall  f1-score   support\n",
      "\n",
      "           0       0.28      0.07      0.11       864\n",
      "           1       0.58      0.82      0.68      1640\n",
      "           2       0.55      0.54      0.54      1111\n",
      "\n",
      "    accuracy                           0.55      3615\n",
      "   macro avg       0.47      0.47      0.44      3615\n",
      "weighted avg       0.50      0.55      0.50      3615\n",
      "\n"
     ]
    }
   ],
   "source": [
    "print(classification_report(y_test, y_pred))"
   ]
  },
  {
   "cell_type": "code",
   "execution_count": 24,
   "id": "2790a8a6",
   "metadata": {},
   "outputs": [
    {
     "data": {
      "image/png": "[encoded data removed]",
      "text/plain": [
       "<Figure size 1000x700 with 2 Axes>"
      ]
     },
     "metadata": {},
     "output_type": "display_data"
    }
   ],
   "source": [
    "cm = confusion_matrix(y_test, y_pred, labels=model.classes_)\n",
    "\n",
    "plt.figure(figsize=(10, 7))\n",
    "sns.heatmap(cm, annot=True, fmt='d', cmap='Blues', xticklabels=le.inverse_transform(model.classes_), yticklabels=le.inverse_transform(model.classes_))\n",
    "plt.xlabel('Predicted')\n",
    "plt.ylabel('Actual')\n",
    "plt.title('Confusion Matrix')\n",
    "plt.show()"
   ]
  },
  {
   "cell_type": "code",
   "execution_count": 21,
   "id": "f7010e3e",
   "metadata": {},
   "outputs": [
    {
     "name": "stdout",
     "output_type": "stream",
     "text": [
      "[[0.25055233 0.49557909 0.25386858]\n",
      " [0.24051715 0.37668286 0.38279999]\n",
      " [0.30736103 0.2020152  0.49062377]\n",
      " [0.24888199 0.40113043 0.34998758]\n",
      " [0.24673307 0.15568466 0.59758227]]\n"
     ]
    }
   ],
   "source": [
    "y_prob = model.predict_proba(X_test)\n",
    "\n",
    "print(y_prob[:5])"
   ]
  },
  {
   "cell_type": "code",
   "execution_count": 31,
   "id": "a590e9fe",
   "metadata": {},
   "outputs": [
    {
     "name": "stdout",
     "output_type": "stream",
     "text": [
      "Predicted Result: 2\n",
      "Win Probability: 0.35621275860473267\n",
      "Draw Probability: 0.11617071144090824\n",
      "Lose Probability: 0.5276165299543591\n"
     ]
    },
    {
     "name": "stderr",
     "output_type": "stream",
     "text": [
      "C:\\Users\\Akif\\AppData\\Local\\Temp\\ipykernel_1808\\2317949717.py:20: FutureWarning: The frame.append method is deprecated and will be removed from pandas in a future version. Use pandas.concat instead.\n",
      "  match_data = match_data.append({\n",
      "C:\\Users\\Akif\\anaconda3\\lib\\site-packages\\sklearn\\base.py:439: UserWarning: X does not have valid feature names, but GradientBoostingClassifier was fitted with feature names\n",
      "  warnings.warn(\n",
      "C:\\Users\\Akif\\anaconda3\\lib\\site-packages\\sklearn\\base.py:439: UserWarning: X does not have valid feature names, but GradientBoostingClassifier was fitted with feature names\n",
      "  warnings.warn(\n"
     ]
    }
   ],
   "source": [
    "import pandas as pd\n",
    "import numpy as np\n",
    "\n",
    "# Assuming you have already trained your model and have the label encoder loaded\n",
    "# Define the columns that your model expects\n",
    "columns = [\n",
    "    'home_club_id', 'away_club_id', 'attendance', 'home_team_points', 'away_team_points',\n",
    "    'home_attack_value', 'home_attack_count', 'away_attack_value', 'away_attack_count',\n",
    "    'home_midfield_value', 'home_midfield_count', 'away_midfield_value', 'away_midfield_count',\n",
    "    'home_defender_value', 'home_defender_count', 'away_defender_value', 'away_defender_count',\n",
    "    'home_goalkeeper_value', 'home_goalkeeper_count', 'away_goalkeeper_value', 'away_goalkeeper_count',\n",
    "    'home_total_market_value', 'away_total_market_value', 'home_power_score', 'away_power_score'\n",
    "]\n",
    "\n",
    "# Create a DataFrame to hold match data\n",
    "match_data = pd.DataFrame(columns=columns)\n",
    "\n",
    "# Fill in the match data with the actual statistics\n",
    "# Replace the values with actual data for your specific match\n",
    "match_data = match_data.append({\n",
    "    'home_club_id': 1421,\n",
    "    'away_club_id': 583,\n",
    "    'attendance': 20000,\n",
    "    'home_team_points': 50,\n",
    "    'away_team_points': 48,\n",
    "    'home_attack_value': 85.0,\n",
    "    'home_attack_count': 100,\n",
    "    'away_attack_value': 82.0,\n",
    "    'away_attack_count': 95,\n",
    "    'home_midfield_value': 80.0,\n",
    "    'home_midfield_count': 98,\n",
    "    'away_midfield_value': 79.0,\n",
    "    'away_midfield_count': 96,\n",
    "    'home_defender_value': 75.0,\n",
    "    'home_defender_count': 100,\n",
    "    'away_defender_value': 74.0,\n",
    "    'away_defender_count': 97,\n",
    "    'home_goalkeeper_value': 90.0,\n",
    "    'home_goalkeeper_count': 1,\n",
    "    'away_goalkeeper_value': 88.0,\n",
    "    'away_goalkeeper_count': 1,\n",
    "    'home_total_market_value': 500.0,\n",
    "    'away_total_market_value': 480.0,\n",
    "    'home_power_score': 90.0,\n",
    "    'away_power_score': 88.0\n",
    "}, ignore_index=True)\n",
    "\n",
    "# Convert the DataFrame to a numpy array\n",
    "input_features = match_data.values\n",
    "\n",
    "# Make predictions using the model\n",
    "y_prob = model.predict_proba(input_features)\n",
    "y_pred = model.predict(input_features)\n",
    "\n",
    "# Map the prediction to actual labels\n",
    "predicted_result = le.inverse_transform(y_pred)[0]\n",
    "\n",
    "# Get the probabilities for each outcome\n",
    "win_prob = y_prob[0][le.transform([1])[0]]\n",
    "draw_prob = y_prob[0][le.transform([0])[0]]\n",
    "lose_prob = y_prob[0][le.transform([2])[0]]\n",
    "\n",
    "# Display the results\n",
    "print(f\"Predicted Result: {predicted_result}\")\n",
    "print(f\"Win Probability: {win_prob}\")\n",
    "print(f\"Draw Probability: {draw_prob}\")\n",
    "print(f\"Lose Probability: {lose_prob}\")\n"
   ]
  },
  {
   "cell_type": "markdown",
   "id": "c62cbb8d",
   "metadata": {},
   "source": [
    "## Model Save"
   ]
  },
  {
   "cell_type": "code",
   "execution_count": null,
   "id": "66384e3b",
   "metadata": {},
   "outputs": [],
   "source": [
    "import joblib\n",
    "\n",
    "# Save the model\n",
    "joblib.dump(model, 'football_prediction_model.pkl')"
   ]
  },
  {
   "cell_type": "code",
   "execution_count": null,
   "id": "c9cc8588",
   "metadata": {},
   "outputs": [],
   "source": [
    "# Load the model\n",
    "model = joblib.load('football_prediction_model.pkl')\n",
    "\n",
    "# Make predictions with the loaded model\n",
    "y_pred = model.predict(X_test)"
   ]
  }
 ],
 "metadata": {
  "kernelspec": {
   "display_name": "Python 3 (ipykernel)",
   "language": "python",
   "name": "python3"
  },
  "language_info": {
   "codemirror_mode": {
    "name": "ipython",
    "version": 3
   },
   "file_extension": ".py",
   "mimetype": "text/x-python",
   "name": "python",
   "nbconvert_exporter": "python",
   "pygments_lexer": "ipython3",
   "version": "3.10.9"
  }
 },
 "nbformat": 4,
 "nbformat_minor": 5
}
