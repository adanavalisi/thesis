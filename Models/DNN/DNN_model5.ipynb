{
 "cells": [
  {
   "cell_type": "code",
   "execution_count": 40,
   "id": "00243f5d",
   "metadata": {},
   "outputs": [],
   "source": [
    "import pandas as pd\n",
    "import numpy as np\n",
    "from sklearn.preprocessing import OneHotEncoder, StandardScaler\n",
    "from sklearn.model_selection import train_test_split\n",
    "from sklearn.utils import resample, shuffle\n",
    "from sklearn.metrics import classification_report, confusion_matrix\n",
    "from keras.models import Sequential\n",
    "from keras.layers import Dense, Dropout, BatchNormalization\n",
    "from keras.optimizers import Adam\n",
    "import matplotlib.pyplot as plt\n",
    "import seaborn as sns\n",
    "from tensorflow.keras.utils import to_categorical"
   ]
  },
  {
   "cell_type": "code",
   "execution_count": 41,
   "id": "b4e198a6",
   "metadata": {},
   "outputs": [],
   "source": [
    "data = pd.read_csv(\"C:/Users/Akif/Desktop/football/rankingv5v2.csv\")"
   ]
  },
  {
   "cell_type": "code",
   "execution_count": 42,
   "id": "5acedb0e",
   "metadata": {},
   "outputs": [
    {
     "data": {
      "text/plain": [
       "(18071, 40)"
      ]
     },
     "execution_count": 42,
     "metadata": {},
     "output_type": "execute_result"
    }
   ],
   "source": [
    "data.shape"
   ]
  },
  {
   "cell_type": "code",
   "execution_count": 43,
   "id": "04914076",
   "metadata": {},
   "outputs": [],
   "source": [
    "home_win = data[data['result'] == 1]\n",
    "away_win = data[data['result'] == 2]\n",
    "draw = data[data['result'] == 0]"
   ]
  },
  {
   "cell_type": "code",
   "execution_count": 44,
   "id": "b92663fb",
   "metadata": {},
   "outputs": [],
   "source": [
    "draw_upsampled = resample(draw, replace=True, n_samples=len(home_win), random_state=42)\n",
    "away_win_upsampled = resample(away_win, replace=True, n_samples=len(home_win), random_state=42)"
   ]
  },
  {
   "cell_type": "code",
   "execution_count": 45,
   "id": "8930ca91",
   "metadata": {},
   "outputs": [],
   "source": [
    "data_balanced = pd.concat([home_win, draw_upsampled, away_win_upsampled])\n",
    "data_balanced = shuffle(data_balanced, random_state=42)"
   ]
  },
  {
   "cell_type": "code",
   "execution_count": 46,
   "id": "3c34aefa",
   "metadata": {},
   "outputs": [
    {
     "name": "stdout",
     "output_type": "stream",
     "text": [
      "2    8159\n",
      "0    8159\n",
      "1    8159\n",
      "Name: result, dtype: int64\n"
     ]
    }
   ],
   "source": [
    "print(data_balanced['result'].value_counts())"
   ]
  },
  {
   "cell_type": "code",
   "execution_count": 47,
   "id": "cb958ac0",
   "metadata": {},
   "outputs": [],
   "source": [
    "data = data_balanced"
   ]
  },
  {
   "cell_type": "code",
   "execution_count": 48,
   "id": "cb28b45a",
   "metadata": {},
   "outputs": [],
   "source": [
    "selected_columns = [\n",
    "    'home_club_id', 'away_club_id', 'attendance', 'result', 'home_team_points', 'away_team_points',\n",
    "       'home_attack_value', 'away_attack_value',\n",
    "        'home_midfield_value',\n",
    "       'away_midfield_value',  'home_defender_value',\n",
    "       'away_defender_value', \n",
    "       'home_goalkeeper_value',\n",
    "       'away_goalkeeper_value', \n",
    "       'home_total_market_value', 'away_total_market_value',\n",
    "       'home_power_score', 'away_power_score'\n",
    "]\n",
    "data = data[selected_columns]\n"
   ]
  },
  {
   "cell_type": "code",
   "execution_count": 49,
   "id": "ae2994d0",
   "metadata": {},
   "outputs": [
    {
     "name": "stdout",
     "output_type": "stream",
     "text": [
      "Class distribution in 'result' column:\n",
      "2    8159\n",
      "0    8159\n",
      "1    8159\n",
      "Name: result, dtype: int64\n"
     ]
    }
   ],
   "source": [
    "result_counts = data['result'].value_counts()\n",
    "print(\"Class distribution in 'result' column:\")\n",
    "print(result_counts)"
   ]
  },
  {
   "cell_type": "code",
   "execution_count": 50,
   "id": "80c80523",
   "metadata": {},
   "outputs": [],
   "source": [
    "X = data.drop('result', axis=1)\n",
    "y = data['result']\n",
    "\n",
    "scaler = StandardScaler()\n",
    "X = scaler.fit_transform(X)\n",
    "\n",
    "encoder = OneHotEncoder(sparse_output=False)\n",
    "y = encoder.fit_transform(y.values.reshape(-1, 1))"
   ]
  },
  {
   "cell_type": "code",
   "execution_count": 51,
   "id": "31f25615",
   "metadata": {},
   "outputs": [],
   "source": [
    "X, y = shuffle(X, y, random_state=42)\n",
    "X_train, X_test, y_train, y_test = train_test_split(X, y, test_size=0.25, random_state=42)"
   ]
  },
  {
   "cell_type": "code",
   "execution_count": 52,
   "id": "23ac4f8d",
   "metadata": {},
   "outputs": [],
   "source": [
    "model = Sequential([\n",
    "    Dense(256, activation='relu', input_shape=(X_train.shape[1],)),\n",
    "    BatchNormalization(),\n",
    "    Dropout(0.3),\n",
    "    Dense(128, activation='relu'),\n",
    "    BatchNormalization(),\n",
    "    Dropout(0.3),\n",
    "    Dense(64, activation='relu'),\n",
    "    BatchNormalization(),\n",
    "    Dropout(0.5),\n",
    "    Dense(3, activation='softmax')\n",
    "])\n",
    "\n",
    "model.compile(optimizer=Adam(learning_rate=0.0001), loss='categorical_crossentropy', metrics=['accuracy'])"
   ]
  },
  {
   "cell_type": "code",
   "execution_count": 53,
   "id": "f500b0af",
   "metadata": {},
   "outputs": [
    {
     "name": "stdout",
     "output_type": "stream",
     "text": [
      "Epoch 1/30\n",
      "574/574 [==============================] - 4s 5ms/step - loss: 1.2848 - accuracy: 0.4138 - val_loss: 1.0231 - val_accuracy: 0.4722\n",
      "Epoch 2/30\n",
      "574/574 [==============================] - 2s 4ms/step - loss: 1.0486 - accuracy: 0.4545 - val_loss: 1.0193 - val_accuracy: 0.4748\n",
      "Epoch 3/30\n",
      "574/574 [==============================] - 2s 4ms/step - loss: 1.0263 - accuracy: 0.4678 - val_loss: 1.0171 - val_accuracy: 0.4686\n",
      "Epoch 4/30\n",
      "574/574 [==============================] - 2s 4ms/step - loss: 1.0219 - accuracy: 0.4694 - val_loss: 1.0148 - val_accuracy: 0.4725\n",
      "Epoch 5/30\n",
      "574/574 [==============================] - 3s 6ms/step - loss: 1.0206 - accuracy: 0.4718 - val_loss: 1.0162 - val_accuracy: 0.4729\n",
      "Epoch 6/30\n",
      "574/574 [==============================] - 2s 4ms/step - loss: 1.0174 - accuracy: 0.4784 - val_loss: 1.0139 - val_accuracy: 0.4763\n",
      "Epoch 7/30\n",
      "574/574 [==============================] - 4s 6ms/step - loss: 1.0189 - accuracy: 0.4761 - val_loss: 1.0121 - val_accuracy: 0.4781\n",
      "Epoch 8/30\n",
      "574/574 [==============================] - 2s 4ms/step - loss: 1.0168 - accuracy: 0.4779 - val_loss: 1.0122 - val_accuracy: 0.4792\n",
      "Epoch 9/30\n",
      "574/574 [==============================] - 3s 6ms/step - loss: 1.0172 - accuracy: 0.4833 - val_loss: 1.0136 - val_accuracy: 0.4788\n",
      "Epoch 10/30\n",
      "574/574 [==============================] - 3s 4ms/step - loss: 1.0137 - accuracy: 0.4798 - val_loss: 1.0142 - val_accuracy: 0.4688\n",
      "Epoch 11/30\n",
      "574/574 [==============================] - 4s 7ms/step - loss: 1.0146 - accuracy: 0.4840 - val_loss: 1.0116 - val_accuracy: 0.4824\n",
      "Epoch 12/30\n",
      "574/574 [==============================] - 3s 5ms/step - loss: 1.0131 - accuracy: 0.4816 - val_loss: 1.0125 - val_accuracy: 0.4763\n",
      "Epoch 13/30\n",
      "574/574 [==============================] - 4s 7ms/step - loss: 1.0133 - accuracy: 0.4861 - val_loss: 1.0071 - val_accuracy: 0.4827\n",
      "Epoch 14/30\n",
      "574/574 [==============================] - 2s 4ms/step - loss: 1.0106 - accuracy: 0.4825 - val_loss: 1.0073 - val_accuracy: 0.4868\n",
      "Epoch 15/30\n",
      "574/574 [==============================] - 4s 7ms/step - loss: 1.0111 - accuracy: 0.4836 - val_loss: 1.0074 - val_accuracy: 0.4830\n",
      "Epoch 16/30\n",
      "574/574 [==============================] - 2s 4ms/step - loss: 1.0091 - accuracy: 0.4861 - val_loss: 1.0078 - val_accuracy: 0.4817\n",
      "Epoch 17/30\n",
      "574/574 [==============================] - 4s 7ms/step - loss: 1.0065 - accuracy: 0.4889 - val_loss: 1.0081 - val_accuracy: 0.4856\n",
      "Epoch 18/30\n",
      "574/574 [==============================] - 3s 4ms/step - loss: 1.0077 - accuracy: 0.4899 - val_loss: 1.0070 - val_accuracy: 0.4807\n",
      "Epoch 19/30\n",
      "574/574 [==============================] - 3s 6ms/step - loss: 1.0035 - accuracy: 0.4907 - val_loss: 1.0074 - val_accuracy: 0.4881\n",
      "Epoch 20/30\n",
      "574/574 [==============================] - 3s 5ms/step - loss: 1.0031 - accuracy: 0.4934 - val_loss: 1.0043 - val_accuracy: 0.4863\n",
      "Epoch 21/30\n",
      "574/574 [==============================] - 4s 7ms/step - loss: 1.0026 - accuracy: 0.4909 - val_loss: 1.0044 - val_accuracy: 0.4913\n",
      "Epoch 22/30\n",
      "574/574 [==============================] - 2s 4ms/step - loss: 1.0015 - accuracy: 0.4916 - val_loss: 1.0024 - val_accuracy: 0.4892\n",
      "Epoch 23/30\n",
      "574/574 [==============================] - 4s 7ms/step - loss: 1.0004 - accuracy: 0.4977 - val_loss: 1.0039 - val_accuracy: 0.4859\n",
      "Epoch 24/30\n",
      "574/574 [==============================] - 2s 4ms/step - loss: 1.0007 - accuracy: 0.5002 - val_loss: 1.0004 - val_accuracy: 0.4894\n",
      "Epoch 25/30\n",
      "574/574 [==============================] - 4s 6ms/step - loss: 0.9997 - accuracy: 0.4939 - val_loss: 1.0012 - val_accuracy: 0.4900\n",
      "Epoch 26/30\n",
      "574/574 [==============================] - 3s 5ms/step - loss: 0.9973 - accuracy: 0.4989 - val_loss: 1.0013 - val_accuracy: 0.4876\n",
      "Epoch 27/30\n",
      "574/574 [==============================] - 4s 7ms/step - loss: 0.9951 - accuracy: 0.5014 - val_loss: 1.0016 - val_accuracy: 0.4944\n",
      "Epoch 28/30\n",
      "574/574 [==============================] - 3s 5ms/step - loss: 0.9956 - accuracy: 0.4970 - val_loss: 1.0000 - val_accuracy: 0.4925\n",
      "Epoch 29/30\n",
      "574/574 [==============================] - 4s 7ms/step - loss: 0.9957 - accuracy: 0.4996 - val_loss: 0.9990 - val_accuracy: 0.4980\n",
      "Epoch 30/30\n",
      "574/574 [==============================] - 2s 4ms/step - loss: 0.9940 - accuracy: 0.5015 - val_loss: 0.9975 - val_accuracy: 0.4977\n"
     ]
    }
   ],
   "source": [
    "history = model.fit(X_train, y_train, epochs=30, batch_size=32, validation_data=(X_test, y_test))"
   ]
  },
  {
   "cell_type": "code",
   "execution_count": 54,
   "id": "8c64d560",
   "metadata": {},
   "outputs": [
    {
     "name": "stdout",
     "output_type": "stream",
     "text": [
      "192/192 [==============================] - 0s 2ms/step\n"
     ]
    }
   ],
   "source": [
    "y_pred = model.predict(X_test)\n",
    "y_pred_classes = np.argmax(y_pred, axis=1)\n",
    "y_true_classes = np.argmax(y_test, axis=1)"
   ]
  },
  {
   "cell_type": "code",
   "execution_count": 55,
   "id": "a07fe62c",
   "metadata": {},
   "outputs": [
    {
     "name": "stdout",
     "output_type": "stream",
     "text": [
      "              precision    recall  f1-score   support\n",
      "\n",
      "           0       0.43      0.34      0.38      2055\n",
      "           1       0.51      0.59      0.55      2074\n",
      "           2       0.53      0.57      0.55      1991\n",
      "\n",
      "    accuracy                           0.50      6120\n",
      "   macro avg       0.49      0.50      0.49      6120\n",
      "weighted avg       0.49      0.50      0.49      6120\n",
      "\n"
     ]
    }
   ],
   "source": [
    "print(classification_report(y_true_classes, y_pred_classes))"
   ]
  },
  {
   "cell_type": "code",
   "execution_count": 56,
   "id": "5d4da1a6",
   "metadata": {},
   "outputs": [
    {
     "data": {
      "image/png": "[encoded data removed]",
      "text/plain": [
       "<Figure size 1000x700 with 2 Axes>"
      ]
     },
     "metadata": {},
     "output_type": "display_data"
    }
   ],
   "source": [
    "conf_matrix = confusion_matrix(y_true_classes, y_pred_classes)\n",
    "plt.figure(figsize=(10, 7))\n",
    "sns.heatmap(conf_matrix, annot=True, fmt='d', cmap='Blues', xticklabels=['Draw', 'Home Win', 'Away Win'], yticklabels=['Draw', 'Home Win', 'Away Win'])\n",
    "plt.xlabel('Predicted')\n",
    "plt.ylabel('Actual')\n",
    "plt.title('Confusion Matrix')\n",
    "plt.show()"
   ]
  },
  {
   "cell_type": "code",
   "execution_count": null,
   "id": "dc1e08e0",
   "metadata": {},
   "outputs": [],
   "source": [
    "def get_team_stats(team_id, data):\n",
    "    team_data = data[(data['home_club_id'] == team_id) | (data['away_club_id'] == team_id)]\n",
    "    team_avg_stats = team_data.mean()\n",
    "    return team_avg_stats.drop(['home_club_id', 'away_club_id', 'result'])"
   ]
  },
  {
   "cell_type": "code",
   "execution_count": null,
   "id": "466fcd6c",
   "metadata": {},
   "outputs": [],
   "source": [
    "def predict_match(model, home_team_id, away_team_id, scaler, data):\n",
    "    home_stats = get_team_stats(home_team_id, data)\n",
    "    away_stats = get_team_stats(away_team_id, data)\n",
    "    \n",
    "    # Combine home and away team stats\n",
    "    combined_stats = np.concatenate((home_stats, away_stats))\n",
    "    \n",
    "    # Ensure correct order and structure\n",
    "    feature_columns = data.columns.drop(['home_club_id', 'away_club_id', 'result'])\n",
    "    combined_stats_df = pd.DataFrame([combined_stats], columns=list(feature_columns) + list(feature_columns))\n",
    "    \n",
    "    # Standardize the features\n",
    "    combined_stats = scaler.transform(combined_stats_df.values)\n",
    "    \n",
    "    # Predict\n",
    "    prediction = model.predict(combined_stats)\n",
    "    return prediction"
   ]
  },
  {
   "cell_type": "code",
   "execution_count": null,
   "id": "a2a11db4",
   "metadata": {
    "scrolled": true
   },
   "outputs": [],
   "source": [
    "home_team_id = 3008\n",
    "away_team_id = 148\n",
    "prediction = predict_match(model, home_team_id, away_team_id, scaler, data)\n",
    "print(f'Prediction: {prediction}')"
   ]
  },
  {
   "cell_type": "code",
   "execution_count": null,
   "id": "f53fa9fb",
   "metadata": {},
   "outputs": [],
   "source": [
    "def predict_match(model, match_features, scaler):\n",
    "    \n",
    "    match_features_scaled = scaler.transform(match_features)\n",
    "    prediction = model.predict(match_features_scaled)\n",
    "    return prediction\n",
    "\n",
    "new_match_features = pd.DataFrame([{\n",
    "    'home_club_id': 3008,\n",
    "    'away_club_id': 148,\n",
    "    'attendance': 50000,\n",
    "    'home_team_points': 65,\n",
    "    'away_team_points': 70,\n",
    "    'home_attack_value': 75,\n",
    "    'home_attack_count': 100,\n",
    "    'away_attack_value': 80,\n",
    "    'away_attack_count': 110,\n",
    "    'home_midfield_value': 70,\n",
    "    'home_midfield_count': 95,\n",
    "    'away_midfield_value': 72,\n",
    "    'away_midfield_count': 90,\n",
    "    'home_defender_value': 78,\n",
    "    'home_defender_count': 110,\n",
    "    'away_defender_value': 75,\n",
    "    'away_defender_count': 100,\n",
    "    'home_goalkeeper_value': 80,\n",
    "    'home_goalkeeper_count': 30,\n",
    "    'away_goalkeeper_value': 78,\n",
    "    'away_goalkeeper_count': 35,\n",
    "    'home_total_market_value': 300000000,\n",
    "    'away_total_market_value': 250000000,\n",
    "    'home_power_score': 78,\n",
    "    'away_power_score': 80\n",
    "}])\n",
    "\n",
    "prediction = predict_match(model, new_match_features, scaler)\n",
    "print(f'Prediction: {prediction}')"
   ]
  },
  {
   "cell_type": "code",
   "execution_count": null,
   "id": "e8aab246",
   "metadata": {},
   "outputs": [],
   "source": [
    "def predict_match(model, match_features, scaler):\n",
    "    \n",
    "    match_features_scaled = scaler.transform(match_features)\n",
    "    prediction = model.predict(match_features_scaled)\n",
    "    return prediction\n",
    "\n",
    "new_match_features = pd.DataFrame([{\n",
    "    'home_club_id': 3008,\n",
    "    'away_club_id': 148,\n",
    "    'attendance': 50000,\n",
    "    'home_team_points': 65,\n",
    "    'away_team_points': 70,\n",
    "    'home_attack_value': 75,\n",
    "    'away_attack_value': 80,\n",
    "    'home_midfield_value': 70,\n",
    "    'away_midfield_value': 72,\n",
    "    'home_defender_value': 78,\n",
    "    'away_defender_value': 75,\n",
    "    'home_goalkeeper_value': 80,\n",
    "    'away_goalkeeper_value': 78,\n",
    "    'home_total_market_value': 300000000,\n",
    "    'away_total_market_value': 250000000,\n",
    "    'home_power_score': 78,\n",
    "    'away_power_score': 80\n",
    "}])\n",
    "\n",
    "prediction = predict_match(model, new_match_features, scaler)\n",
    "print(f'Prediction: {prediction}')"
   ]
  },
  {
   "cell_type": "code",
   "execution_count": null,
   "id": "a782b6d1",
   "metadata": {},
   "outputs": [],
   "source": []
  }
 ],
 "metadata": {
  "kernelspec": {
   "display_name": "Python 3 (ipykernel)",
   "language": "python",
   "name": "python3"
  },
  "language_info": {
   "codemirror_mode": {
    "name": "ipython",
    "version": 3
   },
   "file_extension": ".py",
   "mimetype": "text/x-python",
   "name": "python",
   "nbconvert_exporter": "python",
   "pygments_lexer": "ipython3",
   "version": "3.10.9"
  }
 },
 "nbformat": 4,
 "nbformat_minor": 5
}
